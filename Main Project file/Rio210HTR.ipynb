{
  "nbformat": 4,
  "nbformat_minor": 0,
  "metadata": {
    "colab": {
      "name": "Rio210HTR.ipynb",
      "provenance": [],
      "collapsed_sections": []
    },
    "kernelspec": {
      "name": "python3",
      "display_name": "Python 3"
    },
    "accelerator": "GPU"
  },
  "cells": [
    {
      "cell_type": "markdown",
      "metadata": {
        "id": "VZvueSJxqqkX",
        "colab_type": "text"
      },
      "source": [
        "# **Automate Identification And Recognition Of Handwritten Text from An Image.**\n",
        "(Using a Multistream Convolutional Neural Network)\n"
      ]
    },
    {
      "cell_type": "markdown",
      "metadata": {
        "id": "hpxOtmVYtMHj",
        "colab_type": "text"
      },
      "source": [
        "\n",
        "\n",
        "---\n",
        "\n",
        "\n",
        "**Name Of The Student** : SAUBHAGYAJEET SAHOO\n",
        "\n",
        "**Internship Project Topic** : Automate identification and recognition of handwritten text from an image\n",
        "\n",
        "**Name of the Organization** : TCS iON\n",
        "\n",
        "**Name of the Industry Mentor** : Anamika Chatterjee\n",
        "\n",
        "**Name of the Institute** : DRIEMS GROUP OF INSTITUTION , TANGI , CUTTACK\n",
        "\n",
        "---\n",
        "\n"
      ]
    },
    {
      "cell_type": "markdown",
      "metadata": {
        "id": "MzOBYciHyZzi",
        "colab_type": "text"
      },
      "source": [
        "# PROJECT OVERVIEW\n",
        "\n",
        "---\n",
        "The aim of the project is to build a program which is able to identify and recognize hand writeen text from an image. \n",
        "\n"
      ]
    },
    {
      "cell_type": "markdown",
      "metadata": {
        "id": "8p5_xrsI5Z15",
        "colab_type": "text"
      },
      "source": [
        "# Create a Database\n",
        "Step1 - Download the data from the IAM Database \"http://www.fki.inf.unibe.ch/databases/iam-handwriting-database\".\n",
        "\n",
        "Step2 - Download the \"forms.txt\" from the ascii folder.\n",
        "\n",
        "Step3 - Make a Folder (Ex-datase_rio)\n",
        "\n",
        "Step4 - Unzip the downloaded data into a Folder inside the created Folder. (Ex- datase_rio/sentences)\n",
        "\n",
        "Step5 - Move the \"forms.txt\" file to the created folder.(Ex- datase_rio/forms.txt)\n",
        "\n",
        "***For Online pupose upload the folder into your google drive***\n",
        "  "
      ]
    },
    {
      "cell_type": "markdown",
      "metadata": {
        "id": "bFsrnbZ8-wlD",
        "colab_type": "text"
      },
      "source": [
        "# Create the Program\n",
        "\n",
        "---\n",
        "\n"
      ]
    },
    {
      "cell_type": "markdown",
      "metadata": {
        "id": "GsryzzhH_Vyp",
        "colab_type": "text"
      },
      "source": [
        "If you are creating the program online in Google Colab mount the goole drive "
      ]
    },
    {
      "cell_type": "code",
      "metadata": {
        "id": "Vbcwz7Q7Cs55",
        "colab_type": "code",
        "colab": {
          "base_uri": "https://localhost:8080/",
          "height": 121
        },
        "outputId": "ff686db9-e1b1-464a-9944-e2d068914431"
      },
      "source": [
        "# Mounting google drive into the program. \n",
        "from google.colab import drive\n",
        "drive.mount('/content/gdrive')"
      ],
      "execution_count": 1,
      "outputs": [
        {
          "output_type": "stream",
          "text": [
            "Go to this URL in a browser: https://accounts.google.com/o/oauth2/auth?client_id=947318989803-6bn6qk8qdgf4n4g3pfee6491hc0brc4i.apps.googleusercontent.com&redirect_uri=urn%3aietf%3awg%3aoauth%3a2.0%3aoob&response_type=code&scope=email%20https%3a%2f%2fwww.googleapis.com%2fauth%2fdocs.test%20https%3a%2f%2fwww.googleapis.com%2fauth%2fdrive%20https%3a%2f%2fwww.googleapis.com%2fauth%2fdrive.photos.readonly%20https%3a%2f%2fwww.googleapis.com%2fauth%2fpeopleapi.readonly\n",
            "\n",
            "Enter your authorization code:\n",
            "··········\n",
            "Mounted at /content/gdrive\n"
          ],
          "name": "stdout"
        }
      ]
    },
    {
      "cell_type": "markdown",
      "metadata": {
        "id": "184f9QnVATs_",
        "colab_type": "text"
      },
      "source": [
        "Step1 - Create a dictionary to store each form ID and its writer."
      ]
    },
    {
      "cell_type": "code",
      "metadata": {
        "id": "kKnRGC8yCYGx",
        "colab_type": "code",
        "colab": {}
      },
      "source": [
        "import os\n",
        "from itertools import islice\n",
        "form_writer = {}\n",
        "forms_file_path =\"gdrive/My Drive/datase_rio/forms.txt\" # Enter the path of the form file. \n",
        "with open(forms_file_path) as f:\n",
        "    for line in islice(f, 16, None):\n",
        "        line_list = line.split(' ')\n",
        "        form_id = line_list[0]\n",
        "        writer = line_list[1]\n",
        "        form_writer[form_id] = writer"
      ],
      "execution_count": 2,
      "outputs": []
    },
    {
      "cell_type": "code",
      "metadata": {
        "id": "b7njyz-qEaO6",
        "colab_type": "code",
        "colab": {
          "base_uri": "https://localhost:8080/",
          "height": 101
        },
        "outputId": "2d81ef90-48d7-40dc-cb23-cb361a05434a"
      },
      "source": [
        "list(form_writer.items())[0:5] # Visualize dictionary (as array for simplicity)"
      ],
      "execution_count": 3,
      "outputs": [
        {
          "output_type": "execute_result",
          "data": {
            "text/plain": [
              "[('a01-020x', '010'),\n",
              " ('a01-026', '009'),\n",
              " ('a01-026u', '000'),\n",
              " ('a01-026x', '008'),\n",
              " ('a01-030', '005')]"
            ]
          },
          "metadata": {
            "tags": []
          },
          "execution_count": 3
        }
      ]
    },
    {
      "cell_type": "markdown",
      "metadata": {
        "id": "-Gam_zcjAx5x",
        "colab_type": "text"
      },
      "source": [
        "Step2 - Select the most common writer"
      ]
    },
    {
      "cell_type": "code",
      "metadata": {
        "id": "1_CiIxUfEgAl",
        "colab_type": "code",
        "colab": {}
      },
      "source": [
        "from collections import Counter\n",
        "\n",
        "top_writers = []\n",
        "num_writers = 50 # Enter the number of writers from 221 you want to make dataset of.\n",
        "writers_counter = Counter(form_writer.values())\n",
        "for writer_id,_ in writers_counter.most_common(num_writers):\n",
        "    top_writers.append(writer_id)"
      ],
      "execution_count": 4,
      "outputs": []
    },
    {
      "cell_type": "code",
      "metadata": {
        "id": "DHd5-KGVEjmE",
        "colab_type": "code",
        "colab": {
          "base_uri": "https://localhost:8080/",
          "height": 34
        },
        "outputId": "8ceb15b2-53d8-44ed-8660-386e5723f001"
      },
      "source": [
        "print(top_writers[0:5]) # Visualize the writer id of the top 50 writers."
      ],
      "execution_count": 5,
      "outputs": [
        {
          "output_type": "stream",
          "text": [
            "['000', '150', '151', '152', '153']\n"
          ],
          "name": "stdout"
        }
      ]
    },
    {
      "cell_type": "markdown",
      "metadata": {
        "id": "27Vv0wdWB4H0",
        "colab_type": "text"
      },
      "source": [
        "Step3 - From the selected most common writers, we will now need to select the forms (sentences) they have written.\n",
        "\n"
      ]
    },
    {
      "cell_type": "code",
      "metadata": {
        "id": "UegWBCI5Em4V",
        "colab_type": "code",
        "colab": {}
      },
      "source": [
        "top_forms = []\n",
        "for form_id, author_id in form_writer.items():\n",
        "    if author_id in top_writers:\n",
        "        top_forms.append(form_id)"
      ],
      "execution_count": 6,
      "outputs": []
    },
    {
      "cell_type": "code",
      "metadata": {
        "id": "4-fqNE9UEy2s",
        "colab_type": "code",
        "colab": {
          "base_uri": "https://localhost:8080/",
          "height": 34
        },
        "outputId": "9ab78ffc-7bd4-4b45-f111-639e535bc701"
      },
      "source": [
        "print(top_forms[0:5]) # Visualize the form id of the top 50 writers:"
      ],
      "execution_count": 7,
      "outputs": [
        {
          "output_type": "stream",
          "text": [
            "['a01-026u', 'a01-030u', 'a01-043u', 'a01-049u', 'a01-049x']\n"
          ],
          "name": "stdout"
        }
      ]
    },
    {
      "cell_type": "markdown",
      "metadata": {
        "id": "K6rkmhIyDFCL",
        "colab_type": "text"
      },
      "source": [
        "Step4 - \n",
        "Create a temp directory which contains only the sentences of the forms selected above."
      ]
    },
    {
      "cell_type": "code",
      "metadata": {
        "id": "fW5vh7Y7E1RE",
        "colab_type": "code",
        "colab": {}
      },
      "source": [
        "import os\n",
        "import glob\n",
        "import shutil\n",
        "\n",
        "# Create temp directory to save writers' forms in (assumes files have already been copied if the directory exists)\n",
        "temp_sentences_path = \"gdrive/My Drive/datase_rio/temp_sentences\"\n",
        "if not os.path.exists(temp_sentences_path):\n",
        "    os.makedirs(temp_sentences_path)\n",
        "    # Copy forms that belong to the top 50 most common writers to the temp directory\n",
        "    original_sentences_path = \"gdrive/My Drive/datase_rio/sentences/**/**/*.png\"\n",
        "    for file_path in glob.glob(original_sentences_path):\n",
        "        image_name = file_path.split('/')[-1]  \n",
        "        file_name, _ = os.path.splitext(image_name)\n",
        "        form_id = '-'.join(file_name.split('-')[0:2])\n",
        "        if form_id in top_forms:\n",
        "            shutil.copy2(file_path, temp_sentences_path + \"/\" + image_name)"
      ],
      "execution_count": 8,
      "outputs": []
    },
    {
      "cell_type": "markdown",
      "metadata": {
        "id": "qxOb-4YtDm9C",
        "colab_type": "text"
      },
      "source": [
        "Step5 - Create arrays of file inputs (a form) and their respective targets (a writer id):\n",
        "\n"
      ]
    },
    {
      "cell_type": "code",
      "metadata": {
        "id": "U6wBcfZaFLQf",
        "colab_type": "code",
        "colab": {}
      },
      "source": [
        "import numpy as np\n",
        "\n",
        "img_files = np.zeros((0), dtype=np.str)\n",
        "img_targets = np.zeros((0), dtype=np.str)\n",
        "path_to_files = os.path.join(temp_sentences_path, '*')\n",
        "for file_path in glob.glob(path_to_files):\n",
        "    img_files = np.append(img_files, file_path)\n",
        "    file_name, _ = os.path.splitext(file_path.split('/')[-1]  )\n",
        "    form_id = '-'.join(file_name.split('-')[0:2])\n",
        "    for key in form_writer:\n",
        "        if key == form_id:\n",
        "            img_targets = np.append(img_targets, form_writer[form_id])"
      ],
      "execution_count": 9,
      "outputs": []
    },
    {
      "cell_type": "markdown",
      "metadata": {
        "id": "GZYXnP1HD3C_",
        "colab_type": "text"
      },
      "source": [
        "Step6 - Visualize the form -> writer id arrays:"
      ]
    },
    {
      "cell_type": "code",
      "metadata": {
        "id": "dRUAkai2FQbf",
        "colab_type": "code",
        "colab": {
          "base_uri": "https://localhost:8080/",
          "height": 118
        },
        "outputId": "35c19f0b-aeb4-4579-8514-2179a0eca38e"
      },
      "source": [
        "print(img_files[0:5]) \n",
        "print(img_targets[0:5])"
      ],
      "execution_count": 10,
      "outputs": [
        {
          "output_type": "stream",
          "text": [
            "['gdrive/My Drive/datase_rio/temp_sentences/m06-019-s09-00.png'\n",
            " 'gdrive/My Drive/datase_rio/temp_sentences/m06-019-s06-00.png'\n",
            " 'gdrive/My Drive/datase_rio/temp_sentences/m06-019-s05-00.png'\n",
            " 'gdrive/My Drive/datase_rio/temp_sentences/m06-031-s02-00.png'\n",
            " 'gdrive/My Drive/datase_rio/temp_sentences/m06-031-s03-00.png']\n",
            "['551' '551' '551' '552' '552']\n"
          ],
          "name": "stdout"
        }
      ]
    },
    {
      "cell_type": "markdown",
      "metadata": {
        "id": "LXPk0I_1D-cr",
        "colab_type": "text"
      },
      "source": [
        "Step7 - \n",
        "Visualize dataset's images"
      ]
    },
    {
      "cell_type": "code",
      "metadata": {
        "id": "00yzGzQhRiql",
        "colab_type": "code",
        "colab": {
          "base_uri": "https://localhost:8080/",
          "height": 158
        },
        "outputId": "3d20ac3d-4171-4dd1-e9d4-73c8300c1cf7"
      },
      "source": [
        "import matplotlib.pyplot as plt\n",
        "import matplotlib.image as mpimg\n",
        "%matplotlib inline\n",
        "\n",
        "for file_name in img_files[:2]:\n",
        "    img = mpimg.imread(file_name)\n",
        "    plt.figure(figsize = (10,10))\n",
        "    plt.imshow(img, cmap ='gray')"
      ],
      "execution_count": 11,
      "outputs": [
        {
          "output_type": "display_data",
          "data": {
            "image/png": "[encoded data removed]",
            "text/plain": [
              "<Figure size 720x720 with 1 Axes>"
            ]
          },
          "metadata": {
            "tags": [],
            "needs_background": "light"
          }
        },
        {
          "output_type": "display_data",
          "data": {
            "image/png": "[encoded data removed]",
            "text/plain": [
              "<Figure size 720x720 with 1 Axes>"
            ]
          },
          "metadata": {
            "tags": [],
            "needs_background": "light"
          }
        }
      ]
    },
    {
      "cell_type": "markdown",
      "metadata": {
        "id": "6yusmW6TEGXF",
        "colab_type": "text"
      },
      "source": [
        "Step8 - Encode writers with a value between 0 and n_classes-1"
      ]
    },
    {
      "cell_type": "code",
      "metadata": {
        "id": "59pB8AoBRnAj",
        "colab_type": "code",
        "colab": {
          "base_uri": "https://localhost:8080/",
          "height": 50
        },
        "outputId": "da70da7b-f0c7-4ee4-ac71-c357e4f130fe"
      },
      "source": [
        "from sklearn.preprocessing import LabelEncoder\n",
        "\n",
        "encoder = LabelEncoder()\n",
        "encoder.fit(img_targets)\n",
        "encoded_img_targets = encoder.transform(img_targets)\n",
        "\n",
        "print(\"Writer ID        : \", img_targets[:2])\n",
        "print(\"Encoded writer ID: \", encoded_img_targets[:2])"
      ],
      "execution_count": 12,
      "outputs": [
        {
          "output_type": "stream",
          "text": [
            "Writer ID        :  ['551' '551']\n",
            "Encoded writer ID:  [42 42]\n"
          ],
          "name": "stdout"
        }
      ]
    },
    {
      "cell_type": "markdown",
      "metadata": {
        "id": "J2DRM-XFEUnE",
        "colab_type": "text"
      },
      "source": [
        "Step9 - Split dataset into train, validation, and tests sets"
      ]
    },
    {
      "cell_type": "code",
      "metadata": {
        "id": "jH0IRW9vRxiD",
        "colab_type": "code",
        "colab": {
          "base_uri": "https://localhost:8080/",
          "height": 50
        },
        "outputId": "9bf046a4-7c5e-497d-c1fe-7389b6a82438"
      },
      "source": [
        "from sklearn.model_selection import train_test_split\n",
        "\n",
        "# Split dataset into training and test sets\n",
        "X_train, X_test, y_train, y_test = train_test_split(img_files, encoded_img_targets, test_size=0.2, shuffle = True)\n",
        "\n",
        "# Further split training set into training and validation sets\n",
        "X_train, X_val, y_train, y_val = train_test_split(X_train, y_train, test_size=0.2, shuffle = True)\n",
        "\n",
        "print(X_train.shape, X_val.shape, X_test.shape)\n",
        "print(y_train.shape, y_val.shape, y_test.shape)"
      ],
      "execution_count": 13,
      "outputs": [
        {
          "output_type": "stream",
          "text": [
            "(3096,) (775,) (968,)\n",
            "(3096,) (775,) (968,)\n"
          ],
          "name": "stdout"
        }
      ]
    },
    {
      "cell_type": "markdown",
      "metadata": {
        "id": "mfKCpvG7EjJJ",
        "colab_type": "text"
      },
      "source": [
        "Step10 - \n",
        "Define a couple of constants that will be used throughout the model"
      ]
    },
    {
      "cell_type": "code",
      "metadata": {
        "id": "RpOGg19dR5wy",
        "colab_type": "code",
        "colab": {}
      },
      "source": [
        "CROP_SIZE = 113\n",
        "NUM_LABELS = 50\n",
        "BATCH_SIZE = 16"
      ],
      "execution_count": 14,
      "outputs": []
    },
    {
      "cell_type": "markdown",
      "metadata": {
        "id": "Lsiv73tKEpDB",
        "colab_type": "text"
      },
      "source": [
        "Step11 - Cropping the inputed Data(Text image)"
      ]
    },
    {
      "cell_type": "code",
      "metadata": {
        "id": "A3NN0jhsR7kc",
        "colab_type": "code",
        "colab": {}
      },
      "source": [
        "from sklearn.utils import shuffle\n",
        "from PIL import Image\n",
        "import random\n",
        "\n",
        "def get_augmented_sample(sample, label, sample_ratio):\n",
        "    # Get current image details\n",
        "    img = Image.open(sample)\n",
        "    img_width = img.size[0]\n",
        "    img_height = img.size[1]\n",
        "\n",
        "    # Compute resize dimensions such that aspect ratio is maintained\n",
        "    height_fac = CROP_SIZE / img_height\n",
        "    size = (int(img_width * height_fac), CROP_SIZE)\n",
        "\n",
        "    # Resize image \n",
        "    new_img = img.resize((size), Image.ANTIALIAS)\n",
        "    new_img_width = new_img.size[0]\n",
        "    new_img_height = new_img.size[1]\n",
        "\n",
        "    # Generate a random number of crops of size 113x113 from the resized image\n",
        "    x_coord = list(range(0, new_img_width - CROP_SIZE))\n",
        "    num_crops = int(len(x_coord) * sample_ratio)\n",
        "    random_x_coord = random.sample(x_coord, num_crops)\n",
        "    \n",
        "    # Create augmented images (cropped forms) and map them to a label (writer)\n",
        "    images = []\n",
        "    labels = []\n",
        "    for x in random_x_coord:\n",
        "        img_crop = new_img.crop((x, 0, x + CROP_SIZE, CROP_SIZE))\n",
        "        # Transform image to an array of numbers\n",
        "        images.append(np.asarray(img_crop))\n",
        "        labels.append(label)\n",
        "\n",
        "    return (images, labels)"
      ],
      "execution_count": 15,
      "outputs": []
    },
    {
      "cell_type": "markdown",
      "metadata": {
        "id": "v7i-T4pbGK4y",
        "colab_type": "text"
      },
      "source": [
        "Step12  - Visualizing what the get_augmented_sample method does by augmenting one sample from the training set."
      ]
    },
    {
      "cell_type": "code",
      "metadata": {
        "id": "aCCrTriGSCq4",
        "colab_type": "code",
        "colab": {
          "base_uri": "https://localhost:8080/",
          "height": 104
        },
        "outputId": "87ef3ec2-c85c-4a07-b1c3-47f2815c03ab"
      },
      "source": [
        "sample, label = X_train[0], y_train[0]\n",
        "img = mpimg.imread(sample)\n",
        "plt.figure(figsize = (10,10))\n",
        "plt.imshow(img, cmap ='gray')\n",
        "print(\"Label: \", label)"
      ],
      "execution_count": 16,
      "outputs": [
        {
          "output_type": "stream",
          "text": [
            "Label:  32\n"
          ],
          "name": "stdout"
        },
        {
          "output_type": "display_data",
          "data": {
            "image/png": "[encoded data removed]",
            "text/plain": [
              "<Figure size 720x720 with 1 Axes>"
            ]
          },
          "metadata": {
            "tags": [],
            "needs_background": "light"
          }
        }
      ]
    },
    {
      "cell_type": "code",
      "metadata": {
        "id": "SB7WNDhuSHgS",
        "colab_type": "code",
        "colab": {}
      },
      "source": [
        "images, labels = get_augmented_sample(sample, label, 0.1) # Augment it and seeing the result."
      ],
      "execution_count": 17,
      "outputs": []
    },
    {
      "cell_type": "code",
      "metadata": {
        "id": "wwilrwmRSL1b",
        "colab_type": "code",
        "colab": {
          "base_uri": "https://localhost:8080/",
          "height": 70
        },
        "outputId": "76cbcae7-b3b2-4f9f-d3e9-68d7d4eb7ab4"
      },
      "source": [
        "print(labels) # The labels returned by the get_augmented_sample is simply the label of the original image for each cropped patch:\n",
        "print(\"Num of labels: \", len(labels))"
      ],
      "execution_count": 18,
      "outputs": [
        {
          "output_type": "stream",
          "text": [
            "[32, 32, 32, 32, 32, 32, 32, 32, 32, 32, 32, 32, 32, 32, 32, 32, 32, 32, 32, 32, 32, 32, 32, 32, 32, 32, 32, 32, 32, 32, 32, 32, 32, 32, 32, 32, 32, 32, 32, 32, 32, 32, 32, 32, 32, 32, 32, 32, 32, 32, 32, 32, 32, 32, 32, 32, 32, 32, 32, 32, 32, 32, 32, 32, 32, 32, 32, 32, 32, 32, 32, 32, 32, 32, 32, 32, 32, 32, 32, 32, 32, 32, 32, 32, 32, 32, 32, 32, 32, 32, 32, 32, 32, 32, 32, 32, 32, 32, 32, 32, 32, 32, 32, 32, 32, 32, 32, 32, 32, 32, 32, 32, 32, 32, 32, 32, 32, 32, 32, 32, 32, 32, 32, 32, 32, 32, 32, 32, 32, 32, 32, 32, 32, 32, 32, 32, 32, 32, 32, 32, 32, 32, 32, 32, 32, 32, 32, 32, 32, 32, 32, 32, 32, 32, 32, 32, 32, 32, 32, 32, 32, 32, 32, 32, 32]\n",
            "Num of labels:  165\n"
          ],
          "name": "stdout"
        }
      ]
    },
    {
      "cell_type": "code",
      "metadata": {
        "id": "sMQA9u3eSS7Q",
        "colab_type": "code",
        "colab": {
          "base_uri": "https://localhost:8080/",
          "height": 302
        },
        "outputId": "ab532abc-c08d-4589-dd70-fe313226ba45"
      },
      "source": [
        "print(len(images)) # The images returned by it are the random patches created from the original image (only two samples shown for simplicity)\n",
        "plt.imshow(images[0], cmap ='gray')"
      ],
      "execution_count": 19,
      "outputs": [
        {
          "output_type": "stream",
          "text": [
            "165\n"
          ],
          "name": "stdout"
        },
        {
          "output_type": "execute_result",
          "data": {
            "text/plain": [
              "<matplotlib.image.AxesImage at 0x7f69205cc940>"
            ]
          },
          "metadata": {
            "tags": []
          },
          "execution_count": 19
        },
        {
          "output_type": "display_data",
          "data": {
            "image/png": "[encoded data removed]",
            "text/plain": [
              "<Figure size 432x288 with 1 Axes>"
            ]
          },
          "metadata": {
            "tags": [],
            "needs_background": "light"
          }
        }
      ]
    },
    {
      "cell_type": "code",
      "metadata": {
        "id": "PMjuZRlKSW_x",
        "colab_type": "code",
        "colab": {
          "base_uri": "https://localhost:8080/",
          "height": 285
        },
        "outputId": "22116299-b933-43a1-ea13-1d4c010ce3b8"
      },
      "source": [
        "plt.imshow(images[1], cmap ='gray') "
      ],
      "execution_count": null,
      "outputs": [
        {
          "output_type": "execute_result",
          "data": {
            "text/plain": [
              "<matplotlib.image.AxesImage at 0x7f04e5fd7cf8>"
            ]
          },
          "metadata": {
            "tags": []
          },
          "execution_count": 47
        },
        {
          "output_type": "display_data",
          "data": {
            "image/png": "[encoded data removed]",
            "text/plain": [
              "<Figure size 432x288 with 1 Axes>"
            ]
          },
          "metadata": {
            "tags": [],
            "needs_background": "light"
          }
        }
      ]
    },
    {
      "cell_type": "markdown",
      "metadata": {
        "id": "0XVJihwIHhSN",
        "colab_type": "text"
      },
      "source": [
        "Step13 - Creating a  generator program in order to be able to call get_augmented_sample when training the mode"
      ]
    },
    {
      "cell_type": "code",
      "metadata": {
        "id": "HcyVcMx7ScXT",
        "colab_type": "code",
        "colab": {
          "base_uri": "https://localhost:8080/",
          "height": 34
        },
        "outputId": "496937ac-6e1c-473d-ab07-60bec654013c"
      },
      "source": [
        "import operator\n",
        "from functools import reduce\n",
        "from keras.utils import to_categorical\n",
        "\n",
        "def generate_data(samples, labels, batch_size, sample_ratio):\n",
        "    while 1: \n",
        "        for offset in range(0, len(samples), batch_size):\n",
        "            batch_samples = samples[offset:(offset + batch_size)]\n",
        "            batch_labels = labels[offset:(offset + batch_size)]\n",
        "            \n",
        "            # Augment each sample in batch\n",
        "            augmented_batch_samples = []\n",
        "            augmented_batch_labels = []\n",
        "            for i in range(len(batch_samples)):\n",
        "                sample = batch_samples[i]\n",
        "                label = batch_labels[i]\n",
        "                augmented_samples, augmented_labels = get_augmented_sample(sample, label, sample_ratio)\n",
        "                augmented_batch_samples.append(augmented_samples)\n",
        "                augmented_batch_labels.append(augmented_labels)\n",
        "\n",
        "            # Flatten out samples and labels\n",
        "            augmented_batch_samples = reduce(operator.add, augmented_batch_samples)\n",
        "            augmented_batch_labels = reduce(operator.add, augmented_batch_labels)\n",
        "            \n",
        "            # Reshape input format\n",
        "            X_train = np.array(augmented_batch_samples)\n",
        "            X_train = X_train.reshape(X_train.shape[0], CROP_SIZE, CROP_SIZE, 1)\n",
        "\n",
        "            # Transform input to float and normalize\n",
        "            X_train = X_train.astype('float32')\n",
        "            X_train /= 255\n",
        "\n",
        "            # Encode y\n",
        "            y_train = np.array(augmented_batch_labels)\n",
        "            y_train = to_categorical(y_train, NUM_LABELS)\n",
        "\n",
        "            yield X_train, y_train"
      ],
      "execution_count": 20,
      "outputs": [
        {
          "output_type": "stream",
          "text": [
            "Using TensorFlow backend.\n"
          ],
          "name": "stderr"
        }
      ]
    },
    {
      "cell_type": "markdown",
      "metadata": {
        "id": "w8MRTrK6Hwpu",
        "colab_type": "text"
      },
      "source": [
        "Step14 - Create training, validation, and test generators"
      ]
    },
    {
      "cell_type": "code",
      "metadata": {
        "id": "B9swzceDSjCK",
        "colab_type": "code",
        "colab": {}
      },
      "source": [
        "train_generator = generate_data(X_train, y_train, BATCH_SIZE, 0.3)\n",
        "validation_generator = generate_data(X_val, y_val, BATCH_SIZE, 0.3)\n",
        "test_generator = generate_data(X_test, y_test, BATCH_SIZE, 0.1)\n"
      ],
      "execution_count": 21,
      "outputs": []
    },
    {
      "cell_type": "code",
      "metadata": {
        "id": "_gvBWdNHSoCb",
        "colab_type": "code",
        "colab": {
          "base_uri": "https://localhost:8080/",
          "height": 34
        },
        "outputId": "a6bae7af-b840-4477-836a-eeb26b100ed5"
      },
      "source": [
        "import tensorflow as tf\n",
        "\n",
        "config = tf.compat.v1.ConfigProto()\n",
        "tf.compat.v1.Session(config = config)"
      ],
      "execution_count": 22,
      "outputs": [
        {
          "output_type": "execute_result",
          "data": {
            "text/plain": [
              "<tensorflow.python.client.session.Session at 0x7f6920585b00>"
            ]
          },
          "metadata": {
            "tags": []
          },
          "execution_count": 22
        }
      ]
    },
    {
      "cell_type": "code",
      "metadata": {
        "id": "c5hK6ARZTvwu",
        "colab_type": "code",
        "colab": {}
      },
      "source": [
        "def resize_image(img): # Function to resize image.\n",
        "    size = round(CROP_SIZE/2)\n",
        "    return tf.image.resize(img, [size, size])"
      ],
      "execution_count": 23,
      "outputs": []
    },
    {
      "cell_type": "markdown",
      "metadata": {
        "id": "PZrmn9SvJQmz",
        "colab_type": "text"
      },
      "source": [
        "Step15 - Build a neural network in Keras"
      ]
    },
    {
      "cell_type": "code",
      "metadata": {
        "id": "fLw8MbNRTxiU",
        "colab_type": "code",
        "colab": {
          "base_uri": "https://localhost:8080/",
          "height": 874
        },
        "outputId": "b28e3f63-bd07-42f1-ed78-014ad1cf8e11"
      },
      "source": [
        "from keras.models import Sequential\n",
        "from keras.layers import Dense, Dropout, Flatten, Lambda, Activation\n",
        "from keras.layers.convolutional import Convolution2D, ZeroPadding2D, MaxPooling2D\n",
        "from keras.optimizers import Adam\n",
        "from keras import metrics\n",
        "\n",
        "model = Sequential()\n",
        "\n",
        "# Define network input shape\n",
        "model.add(ZeroPadding2D((1, 1), input_shape=(CROP_SIZE, CROP_SIZE, 1)))\n",
        "# Resize images to allow for easy computation\n",
        "model.add(Lambda(resize_image)) \n",
        "\n",
        "# CNN model - Building the model suggested in paper\n",
        "model.add(Convolution2D(filters= 32, kernel_size =(5,5), strides= (2, 2), padding='same', name='conv1'))\n",
        "model.add(Activation('relu'))\n",
        "model.add(MaxPooling2D(pool_size=(2, 2), strides=(2, 2), name='pool1'))\n",
        "\n",
        "model.add(Convolution2D(filters= 64, kernel_size =(3, 3), strides= (1, 1), padding='same', name='conv2'))\n",
        "model.add(Activation('relu'))\n",
        "model.add(MaxPooling2D(pool_size=(2, 2), strides=(2, 2), name='pool2'))\n",
        "\n",
        "model.add(Convolution2D(filters= 128, kernel_size =(3, 3), strides= (1, 1), padding='same', name='conv3'))\n",
        "model.add(Activation('relu'))\n",
        "model.add(MaxPooling2D(pool_size=(2, 2), strides=(2, 2), name='pool3'))\n",
        "\n",
        "\n",
        "model.add(Flatten())\n",
        "model.add(Dropout(0.5))\n",
        "\n",
        "model.add(Dense(512, name='dense1'))\n",
        "model.add(Activation('relu'))\n",
        "model.add(Dropout(0.5))\n",
        "\n",
        "model.add(Dense(256, name='dense2'))\n",
        "model.add(Activation('relu'))\n",
        "model.add(Dropout(0.5))\n",
        "\n",
        "model.add(Dense(NUM_LABELS, name='output'))\n",
        "model.add(Activation('softmax'))\n",
        "\n",
        "model.compile(loss='categorical_crossentropy', optimizer=Adam(), metrics=['acc'])\n",
        "\n",
        "print(model.summary())\n"
      ],
      "execution_count": 24,
      "outputs": [
        {
          "output_type": "stream",
          "text": [
            "Model: \"sequential_1\"\n",
            "_________________________________________________________________\n",
            "Layer (type)                 Output Shape              Param #   \n",
            "=================================================================\n",
            "zero_padding2d_1 (ZeroPaddin (None, 115, 115, 1)       0         \n",
            "_________________________________________________________________\n",
            "lambda_1 (Lambda)            (None, 56, 56, 1)         0         \n",
            "_________________________________________________________________\n",
            "conv1 (Conv2D)               (None, 28, 28, 32)        832       \n",
            "_________________________________________________________________\n",
            "activation_1 (Activation)    (None, 28, 28, 32)        0         \n",
            "_________________________________________________________________\n",
            "pool1 (MaxPooling2D)         (None, 14, 14, 32)        0         \n",
            "_________________________________________________________________\n",
            "conv2 (Conv2D)               (None, 14, 14, 64)        18496     \n",
            "_________________________________________________________________\n",
            "activation_2 (Activation)    (None, 14, 14, 64)        0         \n",
            "_________________________________________________________________\n",
            "pool2 (MaxPooling2D)         (None, 7, 7, 64)          0         \n",
            "_________________________________________________________________\n",
            "conv3 (Conv2D)               (None, 7, 7, 128)         73856     \n",
            "_________________________________________________________________\n",
            "activation_3 (Activation)    (None, 7, 7, 128)         0         \n",
            "_________________________________________________________________\n",
            "pool3 (MaxPooling2D)         (None, 3, 3, 128)         0         \n",
            "_________________________________________________________________\n",
            "flatten_1 (Flatten)          (None, 1152)              0         \n",
            "_________________________________________________________________\n",
            "dropout_1 (Dropout)          (None, 1152)              0         \n",
            "_________________________________________________________________\n",
            "dense1 (Dense)               (None, 512)               590336    \n",
            "_________________________________________________________________\n",
            "activation_4 (Activation)    (None, 512)               0         \n",
            "_________________________________________________________________\n",
            "dropout_2 (Dropout)          (None, 512)               0         \n",
            "_________________________________________________________________\n",
            "dense2 (Dense)               (None, 256)               131328    \n",
            "_________________________________________________________________\n",
            "activation_5 (Activation)    (None, 256)               0         \n",
            "_________________________________________________________________\n",
            "dropout_3 (Dropout)          (None, 256)               0         \n",
            "_________________________________________________________________\n",
            "output (Dense)               (None, 50)                12850     \n",
            "_________________________________________________________________\n",
            "activation_6 (Activation)    (None, 50)                0         \n",
            "=================================================================\n",
            "Total params: 827,698\n",
            "Trainable params: 827,698\n",
            "Non-trainable params: 0\n",
            "_________________________________________________________________\n",
            "None\n"
          ],
          "name": "stdout"
        }
      ]
    },
    {
      "cell_type": "markdown",
      "metadata": {
        "id": "9E5JLFeCJfMg",
        "colab_type": "text"
      },
      "source": [
        "Step16 - The model is trained for given number of epochs and the models obtained after each epoch are saved to the ./model_checkpoints directory"
      ]
    },
    {
      "cell_type": "code",
      "metadata": {
        "id": "DPsD_nVXVLek",
        "colab_type": "code",
        "colab": {
          "base_uri": "https://localhost:8080/",
          "height": 1000
        },
        "outputId": "155fe46a-37af-4213-dc3f-0e175c82bb33"
      },
      "source": [
        "from keras.callbacks import ModelCheckpoint\n",
        "\n",
        "# Create directory to save checkpoints at\n",
        "model_checkpoints_path = \"gdrive/My Drive/model_checkpoints\"\n",
        "if not os.path.exists(model_checkpoints_path):\n",
        "    os.makedirs(model_checkpoints_path)\n",
        "    \n",
        "# Save model after every epoch using checkpoints\n",
        "create_checkpoint = ModelCheckpoint(\n",
        "    filepath = \"gdrive/My Drive/model_checkpoints/check_{epoch:02d}_{val_loss:.4f}.hdf5\",\n",
        "    verbose = 1,\n",
        "    save_best_only = False\n",
        ")\n",
        "\n",
        "# Fit model using generators\n",
        "history_object = model.fit_generator(\n",
        "    train_generator, \n",
        "    steps_per_epoch = round(len(X_train) / BATCH_SIZE),\n",
        "    validation_data = validation_generator,\n",
        "    validation_steps = round(len(X_val) / BATCH_SIZE),\n",
        "    epochs = 200,\n",
        "    verbose = 1,\n",
        "    callbacks = [create_checkpoint]\n",
        ")"
      ],
      "execution_count": null,
      "outputs": [
        {
          "output_type": "stream",
          "text": [
            "Epoch 1/200\n",
            "194/194 [==============================] - 649s 3s/step - loss: 3.5396 - acc: 0.2034 - val_loss: 2.6951 - val_acc: 0.2136\n",
            "\n",
            "Epoch 00001: saving model to gdrive/My Drive/model_checkpoints/check_01_2.6951.hdf5\n",
            "Epoch 2/200\n",
            "194/194 [==============================] - 107s 550ms/step - loss: 2.8753 - acc: 0.2519 - val_loss: 2.5535 - val_acc: 0.2669\n",
            "\n",
            "Epoch 00002: saving model to gdrive/My Drive/model_checkpoints/check_02_2.5535.hdf5\n",
            "Epoch 3/200\n",
            "194/194 [==============================] - 107s 549ms/step - loss: 2.4753 - acc: 0.3052 - val_loss: 2.3897 - val_acc: 0.3390\n",
            "\n",
            "Epoch 00003: saving model to gdrive/My Drive/model_checkpoints/check_03_2.3897.hdf5\n",
            "Epoch 4/200\n",
            "194/194 [==============================] - 105s 544ms/step - loss: 2.1867 - acc: 0.3636 - val_loss: 2.1029 - val_acc: 0.4249\n",
            "\n",
            "Epoch 00004: saving model to gdrive/My Drive/model_checkpoints/check_04_2.1029.hdf5\n",
            "Epoch 5/200\n",
            "194/194 [==============================] - 105s 540ms/step - loss: 1.9843 - acc: 0.4115 - val_loss: 2.5029 - val_acc: 0.4702\n",
            "\n",
            "Epoch 00005: saving model to gdrive/My Drive/model_checkpoints/check_05_2.5029.hdf5\n",
            "Epoch 6/200\n",
            "194/194 [==============================] - 107s 553ms/step - loss: 1.7794 - acc: 0.4670 - val_loss: 1.6138 - val_acc: 0.5300\n",
            "\n",
            "Epoch 00006: saving model to gdrive/My Drive/model_checkpoints/check_06_1.6138.hdf5\n",
            "Epoch 7/200\n",
            "194/194 [==============================] - 106s 545ms/step - loss: 1.6042 - acc: 0.5129 - val_loss: 1.7515 - val_acc: 0.5589\n",
            "\n",
            "Epoch 00007: saving model to gdrive/My Drive/model_checkpoints/check_07_1.7515.hdf5\n",
            "Epoch 8/200\n",
            "194/194 [==============================] - 105s 541ms/step - loss: 1.4947 - acc: 0.5430 - val_loss: 1.3815 - val_acc: 0.5954\n",
            "\n",
            "Epoch 00008: saving model to gdrive/My Drive/model_checkpoints/check_08_1.3815.hdf5\n",
            "Epoch 9/200\n",
            "194/194 [==============================] - 106s 546ms/step - loss: 1.4008 - acc: 0.5695 - val_loss: 1.5575 - val_acc: 0.6154\n",
            "\n",
            "Epoch 00009: saving model to gdrive/My Drive/model_checkpoints/check_09_1.5575.hdf5\n",
            "Epoch 10/200\n",
            "194/194 [==============================] - 106s 547ms/step - loss: 1.3201 - acc: 0.5934 - val_loss: 1.0879 - val_acc: 0.6637\n",
            "\n",
            "Epoch 00010: saving model to gdrive/My Drive/model_checkpoints/check_10_1.0879.hdf5\n",
            "Epoch 11/200\n",
            "194/194 [==============================] - 106s 547ms/step - loss: 1.2275 - acc: 0.6217 - val_loss: 0.9429 - val_acc: 0.6764\n",
            "\n",
            "Epoch 00011: saving model to gdrive/My Drive/model_checkpoints/check_11_0.9429.hdf5\n",
            "Epoch 12/200\n",
            "194/194 [==============================] - 106s 548ms/step - loss: 1.1735 - acc: 0.6387 - val_loss: 0.6668 - val_acc: 0.6981\n",
            "\n",
            "Epoch 00012: saving model to gdrive/My Drive/model_checkpoints/check_12_0.6668.hdf5\n",
            "Epoch 13/200\n",
            "194/194 [==============================] - 107s 551ms/step - loss: 1.1197 - acc: 0.6557 - val_loss: 0.9249 - val_acc: 0.7109\n",
            "\n",
            "Epoch 00013: saving model to gdrive/My Drive/model_checkpoints/check_13_0.9249.hdf5\n",
            "Epoch 14/200\n",
            "194/194 [==============================] - 107s 549ms/step - loss: 1.0661 - acc: 0.6723 - val_loss: 0.8528 - val_acc: 0.7278\n",
            "\n",
            "Epoch 00014: saving model to gdrive/My Drive/model_checkpoints/check_14_0.8528.hdf5\n",
            "Epoch 15/200\n",
            "194/194 [==============================] - 106s 548ms/step - loss: 1.0250 - acc: 0.6856 - val_loss: 0.8236 - val_acc: 0.7350\n",
            "\n",
            "Epoch 00015: saving model to gdrive/My Drive/model_checkpoints/check_15_0.8236.hdf5\n",
            "Epoch 16/200\n",
            "194/194 [==============================] - 107s 551ms/step - loss: 0.9834 - acc: 0.6981 - val_loss: 0.7245 - val_acc: 0.7483\n",
            "\n",
            "Epoch 00016: saving model to gdrive/My Drive/model_checkpoints/check_16_0.7245.hdf5\n",
            "Epoch 17/200\n",
            "194/194 [==============================] - 107s 551ms/step - loss: 0.9514 - acc: 0.7079 - val_loss: 0.8675 - val_acc: 0.7535\n",
            "\n",
            "Epoch 00017: saving model to gdrive/My Drive/model_checkpoints/check_17_0.8675.hdf5\n",
            "Epoch 18/200\n",
            "194/194 [==============================] - 108s 555ms/step - loss: 0.9179 - acc: 0.7186 - val_loss: 0.7289 - val_acc: 0.7623\n",
            "\n",
            "Epoch 00018: saving model to gdrive/My Drive/model_checkpoints/check_18_0.7289.hdf5\n",
            "Epoch 19/200\n",
            "194/194 [==============================] - 106s 546ms/step - loss: 0.8882 - acc: 0.7278 - val_loss: 0.5530 - val_acc: 0.7691\n",
            "\n",
            "Epoch 00019: saving model to gdrive/My Drive/model_checkpoints/check_19_0.5530.hdf5\n",
            "Epoch 20/200\n",
            "194/194 [==============================] - 107s 551ms/step - loss: 0.8653 - acc: 0.7345 - val_loss: 0.6673 - val_acc: 0.7718\n",
            "\n",
            "Epoch 00020: saving model to gdrive/My Drive/model_checkpoints/check_20_0.6673.hdf5\n",
            "Epoch 21/200\n",
            "194/194 [==============================] - 107s 553ms/step - loss: 0.8423 - acc: 0.7415 - val_loss: 0.6750 - val_acc: 0.7756\n",
            "\n",
            "Epoch 00021: saving model to gdrive/My Drive/model_checkpoints/check_21_0.6750.hdf5\n",
            "Epoch 22/200\n",
            "194/194 [==============================] - 107s 554ms/step - loss: 0.8199 - acc: 0.7484 - val_loss: 0.7087 - val_acc: 0.7833\n",
            "\n",
            "Epoch 00022: saving model to gdrive/My Drive/model_checkpoints/check_22_0.7087.hdf5\n",
            "Epoch 23/200\n",
            "194/194 [==============================] - 107s 550ms/step - loss: 0.7980 - acc: 0.7553 - val_loss: 1.0895 - val_acc: 0.7909\n",
            "\n",
            "Epoch 00023: saving model to gdrive/My Drive/model_checkpoints/check_23_1.0895.hdf5\n",
            "Epoch 24/200\n",
            "194/194 [==============================] - 107s 552ms/step - loss: 0.7770 - acc: 0.7614 - val_loss: 0.6506 - val_acc: 0.7978\n",
            "\n",
            "Epoch 00024: saving model to gdrive/My Drive/model_checkpoints/check_24_0.6506.hdf5\n",
            "Epoch 25/200\n",
            "194/194 [==============================] - 108s 558ms/step - loss: 0.7650 - acc: 0.7655 - val_loss: 0.7431 - val_acc: 0.8001\n",
            "\n",
            "Epoch 00025: saving model to gdrive/My Drive/model_checkpoints/check_25_0.7431.hdf5\n",
            "Epoch 26/200\n",
            "194/194 [==============================] - 111s 572ms/step - loss: 0.7432 - acc: 0.7713 - val_loss: 0.9684 - val_acc: 0.8072\n",
            "\n",
            "Epoch 00026: saving model to gdrive/My Drive/model_checkpoints/check_26_0.9684.hdf5\n",
            "Epoch 27/200\n",
            "194/194 [==============================] - 110s 565ms/step - loss: 0.7241 - acc: 0.7771 - val_loss: 0.6724 - val_acc: 0.8089\n",
            "\n",
            "Epoch 00027: saving model to gdrive/My Drive/model_checkpoints/check_27_0.6724.hdf5\n",
            "Epoch 28/200\n",
            "194/194 [==============================] - 108s 558ms/step - loss: 0.6996 - acc: 0.7845 - val_loss: 0.8842 - val_acc: 0.8136\n",
            "\n",
            "Epoch 00028: saving model to gdrive/My Drive/model_checkpoints/check_28_0.8842.hdf5\n",
            "Epoch 29/200\n",
            "194/194 [==============================] - 109s 561ms/step - loss: 0.6896 - acc: 0.7881 - val_loss: 0.5013 - val_acc: 0.8195\n",
            "\n",
            "Epoch 00029: saving model to gdrive/My Drive/model_checkpoints/check_29_0.5013.hdf5\n",
            "Epoch 30/200\n",
            "194/194 [==============================] - 109s 559ms/step - loss: 0.6754 - acc: 0.7924 - val_loss: 0.5876 - val_acc: 0.8215\n",
            "\n",
            "Epoch 00030: saving model to gdrive/My Drive/model_checkpoints/check_30_0.5876.hdf5\n",
            "Epoch 31/200\n",
            "194/194 [==============================] - 110s 568ms/step - loss: 0.6648 - acc: 0.7952 - val_loss: 0.6965 - val_acc: 0.8246\n",
            "\n",
            "Epoch 00031: saving model to gdrive/My Drive/model_checkpoints/check_31_0.6965.hdf5\n",
            "Epoch 32/200\n",
            "194/194 [==============================] - 107s 549ms/step - loss: 0.6464 - acc: 0.8012 - val_loss: 0.5202 - val_acc: 0.8213\n",
            "\n",
            "Epoch 00032: saving model to gdrive/My Drive/model_checkpoints/check_32_0.5202.hdf5\n",
            "Epoch 33/200\n",
            "194/194 [==============================] - 109s 560ms/step - loss: 0.6406 - acc: 0.8027 - val_loss: 0.8292 - val_acc: 0.8205\n",
            "\n",
            "Epoch 00033: saving model to gdrive/My Drive/model_checkpoints/check_33_0.8292.hdf5\n",
            "Epoch 34/200\n",
            "194/194 [==============================] - 108s 555ms/step - loss: 0.6380 - acc: 0.8035 - val_loss: 0.4677 - val_acc: 0.8218\n",
            "\n",
            "Epoch 00034: saving model to gdrive/My Drive/model_checkpoints/check_34_0.4677.hdf5\n",
            "Epoch 35/200\n",
            "194/194 [==============================] - 109s 564ms/step - loss: 0.6297 - acc: 0.8065 - val_loss: 0.6853 - val_acc: 0.7851\n",
            "\n",
            "Epoch 00035: saving model to gdrive/My Drive/model_checkpoints/check_35_0.6853.hdf5\n",
            "Epoch 36/200\n",
            "194/194 [==============================] - 107s 554ms/step - loss: 0.6382 - acc: 0.8040 - val_loss: 0.5781 - val_acc: 0.8221\n",
            "\n",
            "Epoch 00036: saving model to gdrive/My Drive/model_checkpoints/check_36_0.5781.hdf5\n",
            "Epoch 37/200\n",
            "194/194 [==============================] - 108s 558ms/step - loss: 0.6227 - acc: 0.8090 - val_loss: 0.2700 - val_acc: 0.8322\n",
            "\n",
            "Epoch 00037: saving model to gdrive/My Drive/model_checkpoints/check_37_0.2700.hdf5\n",
            "Epoch 38/200\n",
            "194/194 [==============================] - 109s 561ms/step - loss: 0.6075 - acc: 0.8137 - val_loss: 0.5640 - val_acc: 0.8326\n",
            "\n",
            "Epoch 00038: saving model to gdrive/My Drive/model_checkpoints/check_38_0.5640.hdf5\n",
            "Epoch 39/200\n",
            "194/194 [==============================] - 108s 557ms/step - loss: 0.5985 - acc: 0.8160 - val_loss: 0.4725 - val_acc: 0.8327\n",
            "\n",
            "Epoch 00039: saving model to gdrive/My Drive/model_checkpoints/check_39_0.4725.hdf5\n",
            "Epoch 40/200\n",
            "194/194 [==============================] - 109s 563ms/step - loss: 0.5838 - acc: 0.8200 - val_loss: 0.4967 - val_acc: 0.8342\n",
            "\n",
            "Epoch 00040: saving model to gdrive/My Drive/model_checkpoints/check_40_0.4967.hdf5\n",
            "Epoch 41/200\n",
            "194/194 [==============================] - 109s 563ms/step - loss: 0.5754 - acc: 0.8228 - val_loss: 0.4044 - val_acc: 0.8418\n",
            "\n",
            "Epoch 00041: saving model to gdrive/My Drive/model_checkpoints/check_41_0.4044.hdf5\n",
            "Epoch 42/200\n",
            "194/194 [==============================] - 108s 558ms/step - loss: 0.5644 - acc: 0.8264 - val_loss: 0.6547 - val_acc: 0.8426\n",
            "\n",
            "Epoch 00042: saving model to gdrive/My Drive/model_checkpoints/check_42_0.6547.hdf5\n",
            "Epoch 43/200\n",
            "194/194 [==============================] - 107s 554ms/step - loss: 0.5520 - acc: 0.8297 - val_loss: 0.7624 - val_acc: 0.8458\n",
            "\n",
            "Epoch 00043: saving model to gdrive/My Drive/model_checkpoints/check_43_0.7624.hdf5\n",
            "Epoch 44/200\n",
            "194/194 [==============================] - 109s 564ms/step - loss: 0.5449 - acc: 0.8319 - val_loss: 0.3835 - val_acc: 0.8461\n",
            "\n",
            "Epoch 00044: saving model to gdrive/My Drive/model_checkpoints/check_44_0.3835.hdf5\n",
            "Epoch 45/200\n",
            "194/194 [==============================] - 108s 556ms/step - loss: 0.5361 - acc: 0.8343 - val_loss: 0.3359 - val_acc: 0.8457\n",
            "\n",
            "Epoch 00045: saving model to gdrive/My Drive/model_checkpoints/check_45_0.3359.hdf5\n",
            "Epoch 46/200\n",
            "194/194 [==============================] - 112s 576ms/step - loss: 0.5310 - acc: 0.8358 - val_loss: 0.3965 - val_acc: 0.8464\n",
            "\n",
            "Epoch 00046: saving model to gdrive/My Drive/model_checkpoints/check_46_0.3965.hdf5\n",
            "Epoch 47/200\n",
            "194/194 [==============================] - 110s 566ms/step - loss: 0.5204 - acc: 0.8389 - val_loss: 0.6394 - val_acc: 0.8465\n",
            "\n",
            "Epoch 00047: saving model to gdrive/My Drive/model_checkpoints/check_47_0.6394.hdf5\n",
            "Epoch 48/200\n",
            "194/194 [==============================] - 109s 562ms/step - loss: 0.5128 - acc: 0.8414 - val_loss: 0.3323 - val_acc: 0.8500\n",
            "\n",
            "Epoch 00048: saving model to gdrive/My Drive/model_checkpoints/check_48_0.3323.hdf5\n",
            "Epoch 49/200\n",
            "194/194 [==============================] - 108s 559ms/step - loss: 0.5030 - acc: 0.8440 - val_loss: 0.2327 - val_acc: 0.8524\n",
            "\n",
            "Epoch 00049: saving model to gdrive/My Drive/model_checkpoints/check_49_0.2327.hdf5\n",
            "Epoch 50/200\n",
            "194/194 [==============================] - 110s 567ms/step - loss: 0.5006 - acc: 0.8450 - val_loss: 0.3030 - val_acc: 0.8476\n",
            "\n",
            "Epoch 00050: saving model to gdrive/My Drive/model_checkpoints/check_50_0.3030.hdf5\n",
            "Epoch 51/200\n",
            "194/194 [==============================] - 109s 561ms/step - loss: 0.4959 - acc: 0.8468 - val_loss: 0.2847 - val_acc: 0.8506\n",
            "\n",
            "Epoch 00051: saving model to gdrive/My Drive/model_checkpoints/check_51_0.2847.hdf5\n",
            "Epoch 52/200\n",
            "194/194 [==============================] - 109s 560ms/step - loss: 0.4927 - acc: 0.8476 - val_loss: 0.4749 - val_acc: 0.8521\n",
            "\n",
            "Epoch 00052: saving model to gdrive/My Drive/model_checkpoints/check_52_0.4749.hdf5\n",
            "Epoch 53/200\n",
            "194/194 [==============================] - 110s 566ms/step - loss: 0.4853 - acc: 0.8492 - val_loss: 0.5836 - val_acc: 0.8543\n",
            "\n",
            "Epoch 00053: saving model to gdrive/My Drive/model_checkpoints/check_53_0.5836.hdf5\n",
            "Epoch 54/200\n",
            "194/194 [==============================] - 106s 547ms/step - loss: 0.4793 - acc: 0.8516 - val_loss: 0.9819 - val_acc: 0.8560\n",
            "\n",
            "Epoch 00054: saving model to gdrive/My Drive/model_checkpoints/check_54_0.9819.hdf5\n",
            "Epoch 55/200\n",
            "194/194 [==============================] - 105s 542ms/step - loss: 0.4711 - acc: 0.8541 - val_loss: 0.6000 - val_acc: 0.8587\n",
            "\n",
            "Epoch 00055: saving model to gdrive/My Drive/model_checkpoints/check_55_0.6000.hdf5\n",
            "Epoch 56/200\n",
            "194/194 [==============================] - 109s 562ms/step - loss: 0.4675 - acc: 0.8550 - val_loss: 0.6406 - val_acc: 0.8600\n",
            "\n",
            "Epoch 00056: saving model to gdrive/My Drive/model_checkpoints/check_56_0.6406.hdf5\n",
            "Epoch 57/200\n",
            "194/194 [==============================] - 106s 549ms/step - loss: 0.4638 - acc: 0.8561 - val_loss: 0.4182 - val_acc: 0.8593\n",
            "\n",
            "Epoch 00057: saving model to gdrive/My Drive/model_checkpoints/check_57_0.4182.hdf5\n",
            "Epoch 58/200\n",
            "194/194 [==============================] - 107s 549ms/step - loss: 0.4596 - acc: 0.8575 - val_loss: 0.4679 - val_acc: 0.8549\n",
            "\n",
            "Epoch 00058: saving model to gdrive/My Drive/model_checkpoints/check_58_0.4679.hdf5\n",
            "Epoch 59/200\n",
            "194/194 [==============================] - 107s 550ms/step - loss: 0.4601 - acc: 0.8570 - val_loss: 0.4741 - val_acc: 0.8602\n",
            "\n",
            "Epoch 00059: saving model to gdrive/My Drive/model_checkpoints/check_59_0.4741.hdf5\n",
            "Epoch 60/200\n",
            "194/194 [==============================] - 106s 548ms/step - loss: 0.4520 - acc: 0.8599 - val_loss: 0.2905 - val_acc: 0.8577\n",
            "\n",
            "Epoch 00060: saving model to gdrive/My Drive/model_checkpoints/check_60_0.2905.hdf5\n",
            "Epoch 61/200\n",
            "194/194 [==============================] - 107s 551ms/step - loss: 0.4516 - acc: 0.8597 - val_loss: 0.3113 - val_acc: 0.8571\n",
            "\n",
            "Epoch 00061: saving model to gdrive/My Drive/model_checkpoints/check_61_0.3113.hdf5\n",
            "Epoch 62/200\n",
            "194/194 [==============================] - 107s 554ms/step - loss: 0.4466 - acc: 0.8613 - val_loss: 0.3817 - val_acc: 0.8615\n",
            "\n",
            "Epoch 00062: saving model to gdrive/My Drive/model_checkpoints/check_62_0.3817.hdf5\n",
            "Epoch 63/200\n",
            "194/194 [==============================] - 106s 549ms/step - loss: 0.4451 - acc: 0.8616 - val_loss: 0.3419 - val_acc: 0.8579\n",
            "\n",
            "Epoch 00063: saving model to gdrive/My Drive/model_checkpoints/check_63_0.3419.hdf5\n",
            "Epoch 64/200\n",
            "194/194 [==============================] - 108s 556ms/step - loss: 0.4461 - acc: 0.8617 - val_loss: 0.4362 - val_acc: 0.8605\n",
            "\n",
            "Epoch 00064: saving model to gdrive/My Drive/model_checkpoints/check_64_0.4362.hdf5\n",
            "Epoch 65/200\n",
            "194/194 [==============================] - 107s 554ms/step - loss: 0.4552 - acc: 0.8591 - val_loss: 0.4205 - val_acc: 0.8463\n",
            "\n",
            "Epoch 00065: saving model to gdrive/My Drive/model_checkpoints/check_65_0.4205.hdf5\n",
            "Epoch 66/200\n",
            "194/194 [==============================] - 107s 553ms/step - loss: 0.4462 - acc: 0.8619 - val_loss: 0.8656 - val_acc: 0.8442\n",
            "\n",
            "Epoch 00066: saving model to gdrive/My Drive/model_checkpoints/check_66_0.8656.hdf5\n",
            "Epoch 67/200\n",
            "194/194 [==============================] - 107s 549ms/step - loss: 0.4377 - acc: 0.8645 - val_loss: 0.4353 - val_acc: 0.8501\n",
            "\n",
            "Epoch 00067: saving model to gdrive/My Drive/model_checkpoints/check_67_0.4353.hdf5\n",
            "Epoch 68/200\n",
            "194/194 [==============================] - 107s 552ms/step - loss: 0.4297 - acc: 0.8668 - val_loss: 0.4685 - val_acc: 0.8580\n",
            "\n",
            "Epoch 00068: saving model to gdrive/My Drive/model_checkpoints/check_68_0.4685.hdf5\n",
            "Epoch 69/200\n",
            "194/194 [==============================] - 104s 536ms/step - loss: 0.4349 - acc: 0.8649 - val_loss: 0.3215 - val_acc: 0.8597\n",
            "\n",
            "Epoch 00069: saving model to gdrive/My Drive/model_checkpoints/check_69_0.3215.hdf5\n",
            "Epoch 70/200\n",
            "194/194 [==============================] - 106s 546ms/step - loss: 0.4222 - acc: 0.8688 - val_loss: 0.3862 - val_acc: 0.8611\n",
            "\n",
            "Epoch 00070: saving model to gdrive/My Drive/model_checkpoints/check_70_0.3862.hdf5\n",
            "Epoch 71/200\n",
            "194/194 [==============================] - 107s 552ms/step - loss: 0.4173 - acc: 0.8703 - val_loss: 0.4888 - val_acc: 0.8643\n",
            "\n",
            "Epoch 00071: saving model to gdrive/My Drive/model_checkpoints/check_71_0.4888.hdf5\n",
            "Epoch 72/200\n",
            "194/194 [==============================] - 108s 555ms/step - loss: 0.4114 - acc: 0.8726 - val_loss: 0.7299 - val_acc: 0.8606\n",
            "\n",
            "Epoch 00072: saving model to gdrive/My Drive/model_checkpoints/check_72_0.7299.hdf5\n",
            "Epoch 73/200\n",
            "194/194 [==============================] - 106s 546ms/step - loss: 0.4094 - acc: 0.8728 - val_loss: 0.3947 - val_acc: 0.8653\n",
            "\n",
            "Epoch 00073: saving model to gdrive/My Drive/model_checkpoints/check_73_0.3947.hdf5\n",
            "Epoch 74/200\n",
            "194/194 [==============================] - 106s 549ms/step - loss: 0.4016 - acc: 0.8749 - val_loss: 0.5270 - val_acc: 0.8632\n",
            "\n",
            "Epoch 00074: saving model to gdrive/My Drive/model_checkpoints/check_74_0.5270.hdf5\n",
            "Epoch 75/200\n",
            "194/194 [==============================] - 105s 543ms/step - loss: 0.3998 - acc: 0.8756 - val_loss: 0.6905 - val_acc: 0.8612\n",
            "\n",
            "Epoch 00075: saving model to gdrive/My Drive/model_checkpoints/check_75_0.6905.hdf5\n",
            "Epoch 76/200\n",
            "194/194 [==============================] - 109s 561ms/step - loss: 0.3963 - acc: 0.8765 - val_loss: 0.4862 - val_acc: 0.8648\n",
            "\n",
            "Epoch 00076: saving model to gdrive/My Drive/model_checkpoints/check_76_0.4862.hdf5\n",
            "Epoch 77/200\n",
            "194/194 [==============================] - 107s 552ms/step - loss: 0.3928 - acc: 0.8778 - val_loss: 0.8313 - val_acc: 0.8639\n",
            "\n",
            "Epoch 00077: saving model to gdrive/My Drive/model_checkpoints/check_77_0.8313.hdf5\n",
            "Epoch 78/200\n",
            "194/194 [==============================] - 108s 555ms/step - loss: 0.3889 - acc: 0.8787 - val_loss: 0.3753 - val_acc: 0.8684\n",
            "\n",
            "Epoch 00078: saving model to gdrive/My Drive/model_checkpoints/check_78_0.3753.hdf5\n",
            "Epoch 79/200\n",
            "194/194 [==============================] - 106s 549ms/step - loss: 0.3861 - acc: 0.8798 - val_loss: 0.5371 - val_acc: 0.8635\n",
            "\n",
            "Epoch 00079: saving model to gdrive/My Drive/model_checkpoints/check_79_0.5371.hdf5\n",
            "Epoch 80/200\n",
            "194/194 [==============================] - 109s 563ms/step - loss: 0.3824 - acc: 0.8807 - val_loss: 0.4137 - val_acc: 0.8687\n",
            "\n",
            "Epoch 00080: saving model to gdrive/My Drive/model_checkpoints/check_80_0.4137.hdf5\n",
            "Epoch 81/200\n",
            "194/194 [==============================] - 109s 561ms/step - loss: 0.3824 - acc: 0.8808 - val_loss: 0.3501 - val_acc: 0.8657\n",
            "\n",
            "Epoch 00081: saving model to gdrive/My Drive/model_checkpoints/check_81_0.3501.hdf5\n",
            "Epoch 82/200\n",
            "194/194 [==============================] - 111s 570ms/step - loss: 0.3826 - acc: 0.8811 - val_loss: 0.7184 - val_acc: 0.8652\n",
            "\n",
            "Epoch 00082: saving model to gdrive/My Drive/model_checkpoints/check_82_0.7184.hdf5\n",
            "Epoch 83/200\n",
            "194/194 [==============================] - 106s 547ms/step - loss: 0.3825 - acc: 0.8809 - val_loss: 0.3422 - val_acc: 0.8664\n",
            "\n",
            "Epoch 00083: saving model to gdrive/My Drive/model_checkpoints/check_83_0.3422.hdf5\n",
            "Epoch 84/200\n",
            "194/194 [==============================] - 108s 555ms/step - loss: 0.3796 - acc: 0.8816 - val_loss: 0.4042 - val_acc: 0.8624\n",
            "\n",
            "Epoch 00084: saving model to gdrive/My Drive/model_checkpoints/check_84_0.4042.hdf5\n",
            "Epoch 85/200\n",
            "194/194 [==============================] - 107s 554ms/step - loss: 0.3799 - acc: 0.8816 - val_loss: 0.4632 - val_acc: 0.8647\n",
            "\n",
            "Epoch 00085: saving model to gdrive/My Drive/model_checkpoints/check_85_0.4632.hdf5\n",
            "Epoch 86/200\n",
            "194/194 [==============================] - 106s 548ms/step - loss: 0.3763 - acc: 0.8828 - val_loss: 0.1955 - val_acc: 0.8682\n",
            "\n",
            "Epoch 00086: saving model to gdrive/My Drive/model_checkpoints/check_86_0.1955.hdf5\n",
            "Epoch 87/200\n",
            "194/194 [==============================] - 107s 550ms/step - loss: 0.3733 - acc: 0.8835 - val_loss: 0.4496 - val_acc: 0.8606\n",
            "\n",
            "Epoch 00087: saving model to gdrive/My Drive/model_checkpoints/check_87_0.4496.hdf5\n",
            "Epoch 88/200\n",
            "194/194 [==============================] - 108s 554ms/step - loss: 0.3684 - acc: 0.8849 - val_loss: 0.4122 - val_acc: 0.8672\n",
            "\n",
            "Epoch 00088: saving model to gdrive/My Drive/model_checkpoints/check_88_0.4122.hdf5\n",
            "Epoch 89/200\n",
            "194/194 [==============================] - 107s 550ms/step - loss: 0.3675 - acc: 0.8849 - val_loss: 0.4003 - val_acc: 0.8634\n",
            "\n",
            "Epoch 00089: saving model to gdrive/My Drive/model_checkpoints/check_89_0.4003.hdf5\n",
            "Epoch 90/200\n",
            "194/194 [==============================] - 107s 553ms/step - loss: 0.3693 - acc: 0.8850 - val_loss: 0.3838 - val_acc: 0.8679\n",
            "\n",
            "Epoch 00090: saving model to gdrive/My Drive/model_checkpoints/check_90_0.3838.hdf5\n",
            "Epoch 91/200\n",
            "194/194 [==============================] - 107s 552ms/step - loss: 0.3655 - acc: 0.8863 - val_loss: 0.5485 - val_acc: 0.8680\n",
            "\n",
            "Epoch 00091: saving model to gdrive/My Drive/model_checkpoints/check_91_0.5485.hdf5\n",
            "Epoch 92/200\n",
            "194/194 [==============================] - 107s 551ms/step - loss: 0.3642 - acc: 0.8865 - val_loss: 0.7186 - val_acc: 0.8697\n",
            "\n",
            "Epoch 00092: saving model to gdrive/My Drive/model_checkpoints/check_92_0.7186.hdf5\n",
            "Epoch 93/200\n",
            "194/194 [==============================] - 112s 578ms/step - loss: 0.3626 - acc: 0.8870 - val_loss: 0.3237 - val_acc: 0.8690\n",
            "\n",
            "Epoch 00093: saving model to gdrive/My Drive/model_checkpoints/check_93_0.3237.hdf5\n",
            "Epoch 94/200\n",
            "194/194 [==============================] - 110s 569ms/step - loss: 0.3587 - acc: 0.8878 - val_loss: 0.2346 - val_acc: 0.8695\n",
            "\n",
            "Epoch 00094: saving model to gdrive/My Drive/model_checkpoints/check_94_0.2346.hdf5\n",
            "Epoch 95/200\n",
            "194/194 [==============================] - 109s 562ms/step - loss: 0.3576 - acc: 0.8882 - val_loss: 0.3645 - val_acc: 0.8737\n",
            "\n",
            "Epoch 00095: saving model to gdrive/My Drive/model_checkpoints/check_95_0.3645.hdf5\n",
            "Epoch 96/200\n",
            "194/194 [==============================] - 109s 560ms/step - loss: 0.3564 - acc: 0.8887 - val_loss: 0.5909 - val_acc: 0.8716\n",
            "\n",
            "Epoch 00096: saving model to gdrive/My Drive/model_checkpoints/check_96_0.5909.hdf5\n",
            "Epoch 97/200\n",
            "194/194 [==============================] - 108s 556ms/step - loss: 0.3555 - acc: 0.8894 - val_loss: 0.2910 - val_acc: 0.8722\n",
            "\n",
            "Epoch 00097: saving model to gdrive/My Drive/model_checkpoints/check_97_0.2910.hdf5\n",
            "Epoch 98/200\n",
            "194/194 [==============================] - 105s 543ms/step - loss: 0.3522 - acc: 0.8901 - val_loss: 0.2097 - val_acc: 0.8717\n",
            "\n",
            "Epoch 00098: saving model to gdrive/My Drive/model_checkpoints/check_98_0.2097.hdf5\n",
            "Epoch 99/200\n",
            "194/194 [==============================] - 105s 543ms/step - loss: 0.3592 - acc: 0.8878 - val_loss: 0.2695 - val_acc: 0.8699\n",
            "\n",
            "Epoch 00099: saving model to gdrive/My Drive/model_checkpoints/check_99_0.2695.hdf5\n",
            "Epoch 100/200\n",
            "194/194 [==============================] - 110s 569ms/step - loss: 0.3524 - acc: 0.8897 - val_loss: 0.2478 - val_acc: 0.8714\n",
            "\n",
            "Epoch 00100: saving model to gdrive/My Drive/model_checkpoints/check_100_0.2478.hdf5\n",
            "Epoch 101/200\n",
            "194/194 [==============================] - 105s 543ms/step - loss: 0.3488 - acc: 0.8909 - val_loss: 0.4356 - val_acc: 0.8715\n",
            "\n",
            "Epoch 00101: saving model to gdrive/My Drive/model_checkpoints/check_101_0.4356.hdf5\n",
            "Epoch 102/200\n",
            "194/194 [==============================] - 105s 540ms/step - loss: 0.3516 - acc: 0.8900 - val_loss: 0.5424 - val_acc: 0.8727\n",
            "\n",
            "Epoch 00102: saving model to gdrive/My Drive/model_checkpoints/check_102_0.5424.hdf5\n",
            "Epoch 103/200\n",
            "194/194 [==============================] - 114s 587ms/step - loss: 0.3468 - acc: 0.8917 - val_loss: 1.0864 - val_acc: 0.8743\n",
            "\n",
            "Epoch 00103: saving model to gdrive/My Drive/model_checkpoints/check_103_1.0864.hdf5\n",
            "Epoch 104/200\n",
            "194/194 [==============================] - 108s 558ms/step - loss: 0.3472 - acc: 0.8915 - val_loss: 0.6309 - val_acc: 0.8737\n",
            "\n",
            "Epoch 00104: saving model to gdrive/My Drive/model_checkpoints/check_104_0.6309.hdf5\n",
            "Epoch 105/200\n",
            "194/194 [==============================] - 107s 551ms/step - loss: 0.3453 - acc: 0.8921 - val_loss: 0.5402 - val_acc: 0.8707\n",
            "\n",
            "Epoch 00105: saving model to gdrive/My Drive/model_checkpoints/check_105_0.5402.hdf5\n",
            "Epoch 106/200\n",
            "194/194 [==============================] - 106s 548ms/step - loss: 0.3458 - acc: 0.8919 - val_loss: 0.4020 - val_acc: 0.8742\n",
            "\n",
            "Epoch 00106: saving model to gdrive/My Drive/model_checkpoints/check_106_0.4020.hdf5\n",
            "Epoch 107/200\n",
            "194/194 [==============================] - 106s 549ms/step - loss: 0.3447 - acc: 0.8926 - val_loss: 0.4019 - val_acc: 0.8776\n",
            "\n",
            "Epoch 00107: saving model to gdrive/My Drive/model_checkpoints/check_107_0.4019.hdf5\n",
            "Epoch 108/200\n",
            "194/194 [==============================] - 107s 554ms/step - loss: 0.3401 - acc: 0.8939 - val_loss: 0.4004 - val_acc: 0.8769\n",
            "\n",
            "Epoch 00108: saving model to gdrive/My Drive/model_checkpoints/check_108_0.4004.hdf5\n",
            "Epoch 109/200\n",
            "194/194 [==============================] - 106s 546ms/step - loss: 0.3388 - acc: 0.8943 - val_loss: 0.2074 - val_acc: 0.8732\n",
            "\n",
            "Epoch 00109: saving model to gdrive/My Drive/model_checkpoints/check_109_0.2074.hdf5\n",
            "Epoch 110/200\n",
            "194/194 [==============================] - 104s 537ms/step - loss: 0.3348 - acc: 0.8954 - val_loss: 0.3035 - val_acc: 0.8734\n",
            "\n",
            "Epoch 00110: saving model to gdrive/My Drive/model_checkpoints/check_110_0.3035.hdf5\n",
            "Epoch 111/200\n",
            "194/194 [==============================] - 108s 556ms/step - loss: 0.3331 - acc: 0.8957 - val_loss: 0.3846 - val_acc: 0.8764\n",
            "\n",
            "Epoch 00111: saving model to gdrive/My Drive/model_checkpoints/check_111_0.3846.hdf5\n",
            "Epoch 112/200\n",
            "194/194 [==============================] - 106s 548ms/step - loss: 0.3337 - acc: 0.8954 - val_loss: 0.3294 - val_acc: 0.8690\n",
            "\n",
            "Epoch 00112: saving model to gdrive/My Drive/model_checkpoints/check_112_0.3294.hdf5\n",
            "Epoch 113/200\n",
            "194/194 [==============================] - 105s 544ms/step - loss: 0.3361 - acc: 0.8953 - val_loss: 0.3824 - val_acc: 0.8764\n",
            "\n",
            "Epoch 00113: saving model to gdrive/My Drive/model_checkpoints/check_113_0.3824.hdf5\n",
            "Epoch 114/200\n",
            "194/194 [==============================] - 107s 549ms/step - loss: 0.3313 - acc: 0.8966 - val_loss: 0.3696 - val_acc: 0.8791\n",
            "\n",
            "Epoch 00114: saving model to gdrive/My Drive/model_checkpoints/check_114_0.3696.hdf5\n",
            "Epoch 115/200\n",
            "194/194 [==============================] - 105s 541ms/step - loss: 0.3304 - acc: 0.8967 - val_loss: 0.6072 - val_acc: 0.8753\n",
            "\n",
            "Epoch 00115: saving model to gdrive/My Drive/model_checkpoints/check_115_0.6072.hdf5\n",
            "Epoch 116/200\n",
            "194/194 [==============================] - 104s 537ms/step - loss: 0.3293 - acc: 0.8969 - val_loss: 0.3668 - val_acc: 0.8758\n",
            "\n",
            "Epoch 00116: saving model to gdrive/My Drive/model_checkpoints/check_116_0.3668.hdf5\n",
            "Epoch 117/200\n",
            "194/194 [==============================] - 107s 552ms/step - loss: 0.3281 - acc: 0.8976 - val_loss: 0.3210 - val_acc: 0.8740\n",
            "\n",
            "Epoch 00117: saving model to gdrive/My Drive/model_checkpoints/check_117_0.3210.hdf5\n",
            "Epoch 118/200\n",
            "194/194 [==============================] - 108s 555ms/step - loss: 0.3268 - acc: 0.8979 - val_loss: 0.4939 - val_acc: 0.8574\n",
            "\n",
            "Epoch 00118: saving model to gdrive/My Drive/model_checkpoints/check_118_0.4939.hdf5\n",
            "Epoch 119/200\n",
            "194/194 [==============================] - 108s 555ms/step - loss: 0.3342 - acc: 0.8961 - val_loss: 0.4828 - val_acc: 0.8721\n",
            "\n",
            "Epoch 00119: saving model to gdrive/My Drive/model_checkpoints/check_119_0.4828.hdf5\n",
            "Epoch 120/200\n",
            "194/194 [==============================] - 106s 547ms/step - loss: 0.3294 - acc: 0.8972 - val_loss: 0.4732 - val_acc: 0.8729\n",
            "\n",
            "Epoch 00120: saving model to gdrive/My Drive/model_checkpoints/check_120_0.4732.hdf5\n",
            "Epoch 121/200\n",
            "194/194 [==============================] - 108s 556ms/step - loss: 0.3298 - acc: 0.8971 - val_loss: 0.7077 - val_acc: 0.8759\n",
            "\n",
            "Epoch 00121: saving model to gdrive/My Drive/model_checkpoints/check_121_0.7077.hdf5\n",
            "Epoch 122/200\n",
            "194/194 [==============================] - 108s 556ms/step - loss: 0.3269 - acc: 0.8982 - val_loss: 0.3777 - val_acc: 0.8734\n",
            "\n",
            "Epoch 00122: saving model to gdrive/My Drive/model_checkpoints/check_122_0.3777.hdf5\n",
            "Epoch 123/200\n",
            "194/194 [==============================] - 109s 561ms/step - loss: 0.3286 - acc: 0.8974 - val_loss: 0.4549 - val_acc: 0.8740\n",
            "\n",
            "Epoch 00123: saving model to gdrive/My Drive/model_checkpoints/check_123_0.4549.hdf5\n",
            "Epoch 124/200\n",
            "194/194 [==============================] - 107s 550ms/step - loss: 0.3222 - acc: 0.8996 - val_loss: 0.6644 - val_acc: 0.8756\n",
            "\n",
            "Epoch 00124: saving model to gdrive/My Drive/model_checkpoints/check_124_0.6644.hdf5\n",
            "Epoch 125/200\n",
            "194/194 [==============================] - 107s 554ms/step - loss: 0.3181 - acc: 0.9006 - val_loss: 0.3752 - val_acc: 0.8784\n",
            "\n",
            "Epoch 00125: saving model to gdrive/My Drive/model_checkpoints/check_125_0.3752.hdf5\n",
            "Epoch 126/200\n",
            "194/194 [==============================] - 107s 554ms/step - loss: 0.3184 - acc: 0.9007 - val_loss: 0.8498 - val_acc: 0.8727\n",
            "\n",
            "Epoch 00126: saving model to gdrive/My Drive/model_checkpoints/check_126_0.8498.hdf5\n",
            "Epoch 127/200\n",
            "194/194 [==============================] - 106s 549ms/step - loss: 0.3178 - acc: 0.9005 - val_loss: 0.3327 - val_acc: 0.8802\n",
            "\n",
            "Epoch 00127: saving model to gdrive/My Drive/model_checkpoints/check_127_0.3327.hdf5\n",
            "Epoch 128/200\n",
            "194/194 [==============================] - 105s 542ms/step - loss: 0.3133 - acc: 0.9021 - val_loss: 0.4988 - val_acc: 0.8765\n",
            "\n",
            "Epoch 00128: saving model to gdrive/My Drive/model_checkpoints/check_128_0.4988.hdf5\n",
            "Epoch 129/200\n",
            "194/194 [==============================] - 104s 535ms/step - loss: 0.3116 - acc: 0.9029 - val_loss: 0.3788 - val_acc: 0.8782\n",
            "\n",
            "Epoch 00129: saving model to gdrive/My Drive/model_checkpoints/check_129_0.3788.hdf5\n",
            "Epoch 130/200\n",
            "194/194 [==============================] - 105s 539ms/step - loss: 0.3116 - acc: 0.9028 - val_loss: 0.3234 - val_acc: 0.8792\n",
            "\n",
            "Epoch 00130: saving model to gdrive/My Drive/model_checkpoints/check_130_0.3234.hdf5\n",
            "Epoch 131/200\n",
            "194/194 [==============================] - 108s 555ms/step - loss: 0.3127 - acc: 0.9027 - val_loss: 0.6692 - val_acc: 0.8787\n",
            "\n",
            "Epoch 00131: saving model to gdrive/My Drive/model_checkpoints/check_131_0.6692.hdf5\n",
            "Epoch 132/200\n",
            "194/194 [==============================] - 107s 552ms/step - loss: 0.3115 - acc: 0.9031 - val_loss: 0.3095 - val_acc: 0.8817\n",
            "\n",
            "Epoch 00132: saving model to gdrive/My Drive/model_checkpoints/check_132_0.3095.hdf5\n",
            "Epoch 133/200\n",
            "194/194 [==============================] - 109s 564ms/step - loss: 0.3094 - acc: 0.9037 - val_loss: 0.3896 - val_acc: 0.8761\n",
            "\n",
            "Epoch 00133: saving model to gdrive/My Drive/model_checkpoints/check_133_0.3896.hdf5\n",
            "Epoch 134/200\n",
            "194/194 [==============================] - 107s 551ms/step - loss: 0.3071 - acc: 0.9043 - val_loss: 0.4237 - val_acc: 0.8744\n",
            "\n",
            "Epoch 00134: saving model to gdrive/My Drive/model_checkpoints/check_134_0.4237.hdf5\n",
            "Epoch 135/200\n",
            "194/194 [==============================] - 108s 556ms/step - loss: 0.3064 - acc: 0.9047 - val_loss: 0.1803 - val_acc: 0.8785\n",
            "\n",
            "Epoch 00135: saving model to gdrive/My Drive/model_checkpoints/check_135_0.1803.hdf5\n",
            "Epoch 136/200\n",
            "194/194 [==============================] - 107s 550ms/step - loss: 0.3058 - acc: 0.9051 - val_loss: 0.3948 - val_acc: 0.8755\n",
            "\n",
            "Epoch 00136: saving model to gdrive/My Drive/model_checkpoints/check_136_0.3948.hdf5\n",
            "Epoch 137/200\n",
            "194/194 [==============================] - 107s 550ms/step - loss: 0.3022 - acc: 0.9060 - val_loss: 0.3450 - val_acc: 0.8785\n",
            "\n",
            "Epoch 00137: saving model to gdrive/My Drive/model_checkpoints/check_137_0.3450.hdf5\n",
            "Epoch 138/200\n",
            "194/194 [==============================] - 106s 546ms/step - loss: 0.3020 - acc: 0.9059 - val_loss: 0.3282 - val_acc: 0.8821\n",
            "\n",
            "Epoch 00138: saving model to gdrive/My Drive/model_checkpoints/check_138_0.3282.hdf5\n",
            "Epoch 139/200\n",
            "194/194 [==============================] - 109s 560ms/step - loss: 0.3000 - acc: 0.9064 - val_loss: 0.3274 - val_acc: 0.8800\n",
            "\n",
            "Epoch 00139: saving model to gdrive/My Drive/model_checkpoints/check_139_0.3274.hdf5\n",
            "Epoch 140/200\n",
            "194/194 [==============================] - 106s 546ms/step - loss: 0.2982 - acc: 0.9072 - val_loss: 0.5105 - val_acc: 0.8721\n",
            "\n",
            "Epoch 00140: saving model to gdrive/My Drive/model_checkpoints/check_140_0.5105.hdf5\n",
            "Epoch 141/200\n",
            "194/194 [==============================] - 107s 551ms/step - loss: 0.3315 - acc: 0.8971 - val_loss: 0.7250 - val_acc: 0.8781\n",
            "\n",
            "Epoch 00141: saving model to gdrive/My Drive/model_checkpoints/check_141_0.7250.hdf5\n",
            "Epoch 142/200\n",
            "194/194 [==============================] - 107s 554ms/step - loss: 0.3075 - acc: 0.9045 - val_loss: 0.3307 - val_acc: 0.8770\n",
            "\n",
            "Epoch 00142: saving model to gdrive/My Drive/model_checkpoints/check_142_0.3307.hdf5\n",
            "Epoch 143/200\n",
            "194/194 [==============================] - 107s 549ms/step - loss: 0.3033 - acc: 0.9057 - val_loss: 0.2400 - val_acc: 0.8746\n",
            "\n",
            "Epoch 00143: saving model to gdrive/My Drive/model_checkpoints/check_143_0.2400.hdf5\n",
            "Epoch 144/200\n",
            "194/194 [==============================] - 108s 555ms/step - loss: 0.3019 - acc: 0.9062 - val_loss: 0.3858 - val_acc: 0.8795\n",
            "\n",
            "Epoch 00144: saving model to gdrive/My Drive/model_checkpoints/check_144_0.3858.hdf5\n",
            "Epoch 145/200\n",
            "194/194 [==============================] - 107s 552ms/step - loss: 0.3042 - acc: 0.9056 - val_loss: 0.5708 - val_acc: 0.8771\n",
            "\n",
            "Epoch 00145: saving model to gdrive/My Drive/model_checkpoints/check_145_0.5708.hdf5\n",
            "Epoch 146/200\n",
            "194/194 [==============================] - 107s 551ms/step - loss: 0.3014 - acc: 0.9062 - val_loss: 0.2953 - val_acc: 0.8797\n",
            "\n",
            "Epoch 00146: saving model to gdrive/My Drive/model_checkpoints/check_146_0.2953.hdf5\n",
            "Epoch 147/200\n",
            "194/194 [==============================] - 107s 549ms/step - loss: 0.3057 - acc: 0.9051 - val_loss: 0.2248 - val_acc: 0.8785\n",
            "\n",
            "Epoch 00147: saving model to gdrive/My Drive/model_checkpoints/check_147_0.2248.hdf5\n",
            "Epoch 148/200\n",
            "194/194 [==============================] - 111s 570ms/step - loss: 0.3074 - acc: 0.9043 - val_loss: 0.2540 - val_acc: 0.8741\n",
            "\n",
            "Epoch 00148: saving model to gdrive/My Drive/model_checkpoints/check_148_0.2540.hdf5\n",
            "Epoch 149/200\n",
            "194/194 [==============================] - 107s 550ms/step - loss: 0.3114 - acc: 0.9032 - val_loss: 0.2689 - val_acc: 0.8684\n",
            "\n",
            "Epoch 00149: saving model to gdrive/My Drive/model_checkpoints/check_149_0.2689.hdf5\n",
            "Epoch 150/200\n",
            "194/194 [==============================] - 106s 549ms/step - loss: 0.3134 - acc: 0.9027 - val_loss: 0.4490 - val_acc: 0.8603\n",
            "\n",
            "Epoch 00150: saving model to gdrive/My Drive/model_checkpoints/check_150_0.4490.hdf5\n",
            "Epoch 151/200\n",
            "194/194 [==============================] - 108s 554ms/step - loss: 0.3135 - acc: 0.9030 - val_loss: 0.4449 - val_acc: 0.8636\n",
            "\n",
            "Epoch 00151: saving model to gdrive/My Drive/model_checkpoints/check_151_0.4449.hdf5\n",
            "Epoch 152/200\n",
            "194/194 [==============================] - 107s 553ms/step - loss: 0.3105 - acc: 0.9039 - val_loss: 1.2971 - val_acc: 0.8631\n",
            "\n",
            "Epoch 00152: saving model to gdrive/My Drive/model_checkpoints/check_152_1.2971.hdf5\n",
            "Epoch 153/200\n",
            "194/194 [==============================] - 107s 551ms/step - loss: 0.3042 - acc: 0.9057 - val_loss: 0.7006 - val_acc: 0.8648\n",
            "\n",
            "Epoch 00153: saving model to gdrive/My Drive/model_checkpoints/check_153_0.7006.hdf5\n",
            "Epoch 154/200\n",
            "194/194 [==============================] - 105s 542ms/step - loss: 0.3029 - acc: 0.9061 - val_loss: 0.5758 - val_acc: 0.8662\n",
            "\n",
            "Epoch 00154: saving model to gdrive/My Drive/model_checkpoints/check_154_0.5758.hdf5\n",
            "Epoch 155/200\n",
            "194/194 [==============================] - 105s 544ms/step - loss: 0.2994 - acc: 0.9071 - val_loss: 0.5465 - val_acc: 0.8642\n",
            "\n",
            "Epoch 00155: saving model to gdrive/My Drive/model_checkpoints/check_155_0.5465.hdf5\n",
            "Epoch 156/200\n",
            "194/194 [==============================] - 108s 555ms/step - loss: 0.3014 - acc: 0.9066 - val_loss: 0.4628 - val_acc: 0.8726\n",
            "\n",
            "Epoch 00156: saving model to gdrive/My Drive/model_checkpoints/check_156_0.4628.hdf5\n",
            "Epoch 157/200\n",
            "194/194 [==============================] - 106s 544ms/step - loss: 0.2951 - acc: 0.9087 - val_loss: 0.5390 - val_acc: 0.8612\n",
            "\n",
            "Epoch 00157: saving model to gdrive/My Drive/model_checkpoints/check_157_0.5390.hdf5\n",
            "Epoch 158/200\n",
            "194/194 [==============================] - 107s 550ms/step - loss: 0.2963 - acc: 0.9082 - val_loss: 0.3148 - val_acc: 0.8674\n",
            "\n",
            "Epoch 00158: saving model to gdrive/My Drive/model_checkpoints/check_158_0.3148.hdf5\n",
            "Epoch 159/200\n",
            "194/194 [==============================] - 108s 555ms/step - loss: 0.2937 - acc: 0.9089 - val_loss: 0.3129 - val_acc: 0.8671\n",
            "\n",
            "Epoch 00159: saving model to gdrive/My Drive/model_checkpoints/check_159_0.3129.hdf5\n",
            "Epoch 160/200\n",
            "194/194 [==============================] - 107s 553ms/step - loss: 0.2954 - acc: 0.9082 - val_loss: 0.5459 - val_acc: 0.8708\n",
            "\n",
            "Epoch 00160: saving model to gdrive/My Drive/model_checkpoints/check_160_0.5459.hdf5\n",
            "Epoch 161/200\n",
            "194/194 [==============================] - 105s 540ms/step - loss: 0.2917 - acc: 0.9096 - val_loss: 0.3148 - val_acc: 0.8688\n",
            "\n",
            "Epoch 00161: saving model to gdrive/My Drive/model_checkpoints/check_161_0.3148.hdf5\n",
            "Epoch 162/200\n",
            "194/194 [==============================] - 109s 562ms/step - loss: 0.2893 - acc: 0.9099 - val_loss: 0.3588 - val_acc: 0.8724\n",
            "\n",
            "Epoch 00162: saving model to gdrive/My Drive/model_checkpoints/check_162_0.3588.hdf5\n",
            "Epoch 163/200\n",
            "194/194 [==============================] - 106s 547ms/step - loss: 0.2898 - acc: 0.9101 - val_loss: 0.3758 - val_acc: 0.8679\n",
            "\n",
            "Epoch 00163: saving model to gdrive/My Drive/model_checkpoints/check_163_0.3758.hdf5\n",
            "Epoch 164/200\n",
            "194/194 [==============================] - 107s 552ms/step - loss: 0.2852 - acc: 0.9113 - val_loss: 0.5120 - val_acc: 0.8672\n",
            "\n",
            "Epoch 00164: saving model to gdrive/My Drive/model_checkpoints/check_164_0.5120.hdf5\n",
            "Epoch 165/200\n",
            "194/194 [==============================] - 108s 557ms/step - loss: 0.2842 - acc: 0.9118 - val_loss: 0.5002 - val_acc: 0.8678\n",
            "\n",
            "Epoch 00165: saving model to gdrive/My Drive/model_checkpoints/check_165_0.5002.hdf5\n",
            "Epoch 166/200\n",
            "194/194 [==============================] - 107s 553ms/step - loss: 0.2851 - acc: 0.9115 - val_loss: 0.3410 - val_acc: 0.8719\n",
            "\n",
            "Epoch 00166: saving model to gdrive/My Drive/model_checkpoints/check_166_0.3410.hdf5\n",
            "Epoch 167/200\n",
            "194/194 [==============================] - 106s 548ms/step - loss: 0.2816 - acc: 0.9124 - val_loss: 0.3861 - val_acc: 0.8671\n",
            "\n",
            "Epoch 00167: saving model to gdrive/My Drive/model_checkpoints/check_167_0.3861.hdf5\n",
            "Epoch 168/200\n",
            "194/194 [==============================] - 113s 584ms/step - loss: 0.2834 - acc: 0.9117 - val_loss: 0.5230 - val_acc: 0.8688\n",
            "\n",
            "Epoch 00168: saving model to gdrive/My Drive/model_checkpoints/check_168_0.5230.hdf5\n",
            "Epoch 169/200\n",
            "194/194 [==============================] - 110s 566ms/step - loss: 0.2810 - acc: 0.9128 - val_loss: 0.3969 - val_acc: 0.8699\n",
            "\n",
            "Epoch 00169: saving model to gdrive/My Drive/model_checkpoints/check_169_0.3969.hdf5\n",
            "Epoch 170/200\n",
            "194/194 [==============================] - 108s 558ms/step - loss: 0.2802 - acc: 0.9131 - val_loss: 0.7663 - val_acc: 0.8692\n",
            "\n",
            "Epoch 00170: saving model to gdrive/My Drive/model_checkpoints/check_170_0.7663.hdf5\n",
            "Epoch 171/200\n",
            "194/194 [==============================] - 106s 546ms/step - loss: 0.2807 - acc: 0.9128 - val_loss: 0.3538 - val_acc: 0.8734\n",
            "\n",
            "Epoch 00171: saving model to gdrive/My Drive/model_checkpoints/check_171_0.3538.hdf5\n",
            "Epoch 172/200\n",
            "194/194 [==============================] - 109s 563ms/step - loss: 0.2799 - acc: 0.9130 - val_loss: 0.5851 - val_acc: 0.8710\n",
            "\n",
            "Epoch 00172: saving model to gdrive/My Drive/model_checkpoints/check_172_0.5851.hdf5\n",
            "Epoch 173/200\n",
            "194/194 [==============================] - 107s 549ms/step - loss: 0.2781 - acc: 0.9135 - val_loss: 0.6584 - val_acc: 0.8725\n",
            "\n",
            "Epoch 00173: saving model to gdrive/My Drive/model_checkpoints/check_173_0.6584.hdf5\n",
            "Epoch 174/200\n",
            "194/194 [==============================] - 108s 557ms/step - loss: 0.2780 - acc: 0.9137 - val_loss: 0.4013 - val_acc: 0.8754\n",
            "\n",
            "Epoch 00174: saving model to gdrive/My Drive/model_checkpoints/check_174_0.4013.hdf5\n",
            "Epoch 175/200\n",
            "194/194 [==============================] - 109s 559ms/step - loss: 0.2770 - acc: 0.9142 - val_loss: 0.9671 - val_acc: 0.8765\n",
            "\n",
            "Epoch 00175: saving model to gdrive/My Drive/model_checkpoints/check_175_0.9671.hdf5\n",
            "Epoch 176/200\n",
            "194/194 [==============================] - 108s 555ms/step - loss: 0.2741 - acc: 0.9147 - val_loss: 0.3552 - val_acc: 0.8777\n",
            "\n",
            "Epoch 00176: saving model to gdrive/My Drive/model_checkpoints/check_176_0.3552.hdf5\n",
            "Epoch 177/200\n",
            "194/194 [==============================] - 107s 553ms/step - loss: 0.2747 - acc: 0.9145 - val_loss: 0.5783 - val_acc: 0.8709\n",
            "\n",
            "Epoch 00177: saving model to gdrive/My Drive/model_checkpoints/check_177_0.5783.hdf5\n",
            "Epoch 178/200\n",
            "194/194 [==============================] - 107s 550ms/step - loss: 0.2709 - acc: 0.9158 - val_loss: 0.3772 - val_acc: 0.8734\n",
            "\n",
            "Epoch 00178: saving model to gdrive/My Drive/model_checkpoints/check_178_0.3772.hdf5\n",
            "Epoch 179/200\n",
            "194/194 [==============================] - 108s 558ms/step - loss: 0.2736 - acc: 0.9152 - val_loss: 0.3334 - val_acc: 0.8777\n",
            "\n",
            "Epoch 00179: saving model to gdrive/My Drive/model_checkpoints/check_179_0.3334.hdf5\n",
            "Epoch 180/200\n",
            "194/194 [==============================] - 109s 562ms/step - loss: 0.2727 - acc: 0.9151 - val_loss: 0.7012 - val_acc: 0.8762\n",
            "\n",
            "Epoch 00180: saving model to gdrive/My Drive/model_checkpoints/check_180_0.7012.hdf5\n",
            "Epoch 181/200\n",
            "194/194 [==============================] - 107s 551ms/step - loss: 0.2734 - acc: 0.9152 - val_loss: 0.3408 - val_acc: 0.8729\n",
            "\n",
            "Epoch 00181: saving model to gdrive/My Drive/model_checkpoints/check_181_0.3408.hdf5\n",
            "Epoch 182/200\n",
            "194/194 [==============================] - 108s 557ms/step - loss: 0.2745 - acc: 0.9147 - val_loss: 0.4340 - val_acc: 0.8695\n",
            "\n",
            "Epoch 00182: saving model to gdrive/My Drive/model_checkpoints/check_182_0.4340.hdf5\n",
            "Epoch 183/200\n",
            "194/194 [==============================] - 106s 546ms/step - loss: 0.2745 - acc: 0.9146 - val_loss: 0.4384 - val_acc: 0.8746\n",
            "\n",
            "Epoch 00183: saving model to gdrive/My Drive/model_checkpoints/check_183_0.4384.hdf5\n",
            "Epoch 184/200\n",
            "194/194 [==============================] - 106s 547ms/step - loss: 0.2729 - acc: 0.9153 - val_loss: 0.1748 - val_acc: 0.8760\n",
            "\n",
            "Epoch 00184: saving model to gdrive/My Drive/model_checkpoints/check_184_0.1748.hdf5\n",
            "Epoch 185/200\n",
            "194/194 [==============================] - 107s 552ms/step - loss: 0.2736 - acc: 0.9150 - val_loss: 0.5139 - val_acc: 0.8746\n",
            "\n",
            "Epoch 00185: saving model to gdrive/My Drive/model_checkpoints/check_185_0.5139.hdf5\n",
            "Epoch 186/200\n",
            "194/194 [==============================] - 109s 561ms/step - loss: 0.2708 - acc: 0.9159 - val_loss: 0.3901 - val_acc: 0.8744\n",
            "\n",
            "Epoch 00186: saving model to gdrive/My Drive/model_checkpoints/check_186_0.3901.hdf5\n",
            "Epoch 187/200\n",
            "194/194 [==============================] - 106s 547ms/step - loss: 0.2861 - acc: 0.9111 - val_loss: 0.3651 - val_acc: 0.8731\n",
            "\n",
            "Epoch 00187: saving model to gdrive/My Drive/model_checkpoints/check_187_0.3651.hdf5\n",
            "Epoch 188/200\n",
            "194/194 [==============================] - 108s 556ms/step - loss: 0.2727 - acc: 0.9155 - val_loss: 0.2399 - val_acc: 0.8756\n",
            "\n",
            "Epoch 00188: saving model to gdrive/My Drive/model_checkpoints/check_188_0.2399.hdf5\n",
            "Epoch 189/200\n",
            "194/194 [==============================] - 107s 552ms/step - loss: 0.2713 - acc: 0.9154 - val_loss: 0.4392 - val_acc: 0.8671\n",
            "\n",
            "Epoch 00189: saving model to gdrive/My Drive/model_checkpoints/check_189_0.4392.hdf5\n",
            "Epoch 190/200\n",
            "194/194 [==============================] - 107s 554ms/step - loss: 0.2752 - acc: 0.9144 - val_loss: 0.9134 - val_acc: 0.8673\n",
            "\n",
            "Epoch 00190: saving model to gdrive/My Drive/model_checkpoints/check_190_0.9134.hdf5\n",
            "Epoch 191/200\n",
            "194/194 [==============================] - 111s 571ms/step - loss: 0.2746 - acc: 0.9148 - val_loss: 0.4022 - val_acc: 0.8728\n",
            "\n",
            "Epoch 00191: saving model to gdrive/My Drive/model_checkpoints/check_191_0.4022.hdf5\n",
            "Epoch 192/200\n",
            "194/194 [==============================] - 105s 543ms/step - loss: 0.2732 - acc: 0.9151 - val_loss: 0.2585 - val_acc: 0.8713\n",
            "\n",
            "Epoch 00192: saving model to gdrive/My Drive/model_checkpoints/check_192_0.2585.hdf5\n",
            "Epoch 193/200\n",
            "194/194 [==============================] - 111s 570ms/step - loss: 0.2728 - acc: 0.9152 - val_loss: 0.3667 - val_acc: 0.8684\n",
            "\n",
            "Epoch 00193: saving model to gdrive/My Drive/model_checkpoints/check_193_0.3667.hdf5\n",
            "Epoch 194/200\n",
            "194/194 [==============================] - 107s 552ms/step - loss: 0.2733 - acc: 0.9151 - val_loss: 0.6764 - val_acc: 0.8680\n",
            "\n",
            "Epoch 00194: saving model to gdrive/My Drive/model_checkpoints/check_194_0.6764.hdf5\n",
            "Epoch 195/200\n",
            "194/194 [==============================] - 108s 556ms/step - loss: 0.2737 - acc: 0.9151 - val_loss: 0.2607 - val_acc: 0.8744\n",
            "\n",
            "Epoch 00195: saving model to gdrive/My Drive/model_checkpoints/check_195_0.2607.hdf5\n",
            "Epoch 196/200\n",
            "194/194 [==============================] - 108s 556ms/step - loss: 0.2715 - acc: 0.9159 - val_loss: 0.2133 - val_acc: 0.8657\n",
            "\n",
            "Epoch 00196: saving model to gdrive/My Drive/model_checkpoints/check_196_0.2133.hdf5\n",
            "Epoch 197/200\n",
            "194/194 [==============================] - 108s 556ms/step - loss: 0.2751 - acc: 0.9148 - val_loss: 0.2457 - val_acc: 0.8732\n",
            "\n",
            "Epoch 00197: saving model to gdrive/My Drive/model_checkpoints/check_197_0.2457.hdf5\n",
            "Epoch 198/200\n",
            "194/194 [==============================] - 108s 556ms/step - loss: 0.2729 - acc: 0.9156 - val_loss: 0.2622 - val_acc: 0.8722\n",
            "\n",
            "Epoch 00198: saving model to gdrive/My Drive/model_checkpoints/check_198_0.2622.hdf5\n",
            "Epoch 199/200\n",
            "194/194 [==============================] - 109s 561ms/step - loss: 0.2750 - acc: 0.9150 - val_loss: 0.4522 - val_acc: 0.8722\n",
            "\n",
            "Epoch 00199: saving model to gdrive/My Drive/model_checkpoints/check_199_0.4522.hdf5\n",
            "Epoch 200/200\n",
            "194/194 [==============================] - 106s 548ms/step - loss: 0.2737 - acc: 0.9153 - val_loss: 0.5208 - val_acc: 0.8743\n",
            "\n",
            "Epoch 00200: saving model to gdrive/My Drive/model_checkpoints/check_200_0.5208.hdf5\n"
          ],
          "name": "stdout"
        }
      ]
    },
    {
      "cell_type": "markdown",
      "metadata": {
        "id": "JjrQqMfBKOxJ",
        "colab_type": "text"
      },
      "source": [
        "Step17 - Load a saved model weights and use them to predict labels."
      ]
    },
    {
      "cell_type": "code",
      "metadata": {
        "id": "AHQqWrW7k2N0",
        "colab_type": "code",
        "colab": {
          "base_uri": "https://localhost:8080/",
          "height": 34
        },
        "outputId": "afd9e7b5-61fd-4401-9aa2-63307d7c28ee"
      },
      "source": [
        "model_weights_path = \"gdrive/My Drive/model_checkpoints/check_184_0.1748.hdf5\"\n",
        "if model_weights_path:\n",
        "    model.load_weights(model_weights_path)\n",
        "    scores = model.evaluate_generator(test_generator, steps=round(len(X_test)/BATCH_SIZE))\n",
        "    print(\"Accuracy: \", scores[1] , \" ::\" , len(scores))\n",
        "else:\n",
        "    print(\"Set model weights file to load in the 'model_weights_path' variable\")"
      ],
      "execution_count": 25,
      "outputs": [
        {
          "output_type": "stream",
          "text": [
            "Accuracy:  0.92054682970047  :: 2\n"
          ],
          "name": "stdout"
        }
      ]
    }
  ]
}